{
 "cells": [
  {
   "cell_type": "code",
   "execution_count": null,
   "metadata": {},
   "outputs": [],
   "source": []
  },
  {
   "cell_type": "markdown",
   "metadata": {},
   "source": [
    "Importamos las librerías necesarias para el análisis."
   ]
  },
  {
   "cell_type": "code",
   "execution_count": 1,
   "metadata": {},
   "outputs": [],
   "source": [
    "import pandas as pd\n",
    "import matplotlib.pyplot as plt\n",
    "import matplotlib\n",
    "\n",
    "matplotlib.style.use('ggplot')\n",
    "%matplotlib inline"
   ]
  },
  {
   "cell_type": "markdown",
   "metadata": {},
   "source": [
    "Entramos en el portal de trasparencia del Ayuntamiento de Gijón. Ponemos \"multas\" en el buscador y nos aparecerán 4 archivos disponibles https://transparencia.gijon.es/risp_datasetsb"
   ]
  },
  {
   "cell_type": "markdown",
   "metadata": {},
   "source": [
    "![](imgs/portal_trasparencia_ayto_Gijon_multas.png)"
   ]
  },
  {
   "cell_type": "markdown",
   "metadata": {},
   "source": [
    "Los archivos \"658.csv\", \"659.csv\" y \"660.csv\" dan error de codificación al intentar importarlos: \"UnicodeDecodeError: 'utf-8' codec can't decode byte 0xd1 in position 1: invalid continuation byte\" Es debido a que no están formateados en \"UTF-8\", que es la codificación que por defecto utiliza la función read_csv."
   ]
  },
  {
   "cell_type": "markdown",
   "metadata": {
    "scrolled": true
   },
   "source": [
    "multas = pd.read_csv(\"data/original_data/658.csv\")"
   ]
  },
  {
   "cell_type": "markdown",
   "metadata": {},
   "source": [
    "Utilizamos el comando \"!file\" el sistema para obtener en qué formato esta codificado el csv."
   ]
  },
  {
   "cell_type": "code",
   "execution_count": 9,
   "metadata": {
    "scrolled": true
   },
   "outputs": [
    {
     "name": "stdout",
     "output_type": "stream",
     "text": [
      "data/original_data/658.csv: ISO-8859 text, with very long lines, with CRLF line terminators\r\n"
     ]
    }
   ],
   "source": [
    "!file \"data/original_data/658.csv\""
   ]
  },
  {
   "cell_type": "markdown",
   "metadata": {},
   "source": [
    "Y volvemos a intentar importar el archivo (no funciona con \"ISO-8859\"; hay que especificar que es \"ISO-8859-1\")"
   ]
  },
  {
   "cell_type": "code",
   "execution_count": 10,
   "metadata": {},
   "outputs": [],
   "source": [
    "multas = pd.read_csv(\"data/original_data/658.csv\", encoding=\"ISO-8859-1\")"
   ]
  },
  {
   "cell_type": "markdown",
   "metadata": {},
   "source": [
    "Si utilizáis el comando \"file\" en la consola de bash o en el notebook así \"!file\" el sistema os devolverá la siguiente información: \"xxx.csv: ISO-8859 text, with very long lines, with CRLF line terminators\"."
   ]
  },
  {
   "cell_type": "markdown",
   "metadata": {},
   "source": [
    "En vez de ejecutar tres veces la misma función listamos en un archivo los \"file pahts\" de los tres archivos csv a importar y creamos un bucle que itera sobre este listado, importando cada uno de estos archivos"
   ]
  },
  {
   "cell_type": "code",
   "execution_count": 23,
   "metadata": {
    "scrolled": true
   },
   "outputs": [
    {
     "data": {
      "text/html": [
       "<div>\n",
       "<style scoped>\n",
       "    .dataframe tbody tr th:only-of-type {\n",
       "        vertical-align: middle;\n",
       "    }\n",
       "\n",
       "    .dataframe tbody tr th {\n",
       "        vertical-align: top;\n",
       "    }\n",
       "\n",
       "    .dataframe thead th {\n",
       "        text-align: right;\n",
       "    }\n",
       "</style>\n",
       "<table border=\"1\" class=\"dataframe\">\n",
       "  <thead>\n",
       "    <tr style=\"text-align: right;\">\n",
       "      <th></th>\n",
       "      <th>TIPO</th>\n",
       "      <th>CALIFICACION</th>\n",
       "      <th>LUGAR</th>\n",
       "      <th>NUMERO</th>\n",
       "      <th>AÑO</th>\n",
       "      <th>MES</th>\n",
       "      <th>DIA</th>\n",
       "      <th>HORA</th>\n",
       "      <th>IMPORTE</th>\n",
       "      <th>DESCUENTO</th>\n",
       "      <th>PUNTOS</th>\n",
       "      <th>INFRACCION</th>\n",
       "      <th>VELOCIDAD</th>\n",
       "      <th>VELOCIDAD_LIMITE</th>\n",
       "      <th>LATITUD</th>\n",
       "      <th>LONGITUD</th>\n",
       "    </tr>\n",
       "  </thead>\n",
       "  <tbody>\n",
       "    <tr>\n",
       "      <th>0</th>\n",
       "      <td>Cimadevilla</td>\n",
       "      <td>Leve</td>\n",
       "      <td>BARRIO CIMADEVILLA GIJON</td>\n",
       "      <td>NaN</td>\n",
       "      <td>2015</td>\n",
       "      <td>4</td>\n",
       "      <td>13</td>\n",
       "      <td>22:30</td>\n",
       "      <td>90</td>\n",
       "      <td>45</td>\n",
       "      <td>0</td>\n",
       "      <td>PERMANECER EN EL CASCO ANTIGUO DE CIMADEVILLA,...</td>\n",
       "      <td>NaN</td>\n",
       "      <td>NaN</td>\n",
       "      <td>NaN</td>\n",
       "      <td>NaN</td>\n",
       "    </tr>\n",
       "    <tr>\n",
       "      <th>1</th>\n",
       "      <td>Cimadevilla</td>\n",
       "      <td>Leve</td>\n",
       "      <td>BARRIO CIMADEVILLA GIJON</td>\n",
       "      <td>NaN</td>\n",
       "      <td>2015</td>\n",
       "      <td>4</td>\n",
       "      <td>13</td>\n",
       "      <td>23:10</td>\n",
       "      <td>90</td>\n",
       "      <td>0</td>\n",
       "      <td>0</td>\n",
       "      <td>PERMANECER EN EL CASCO ANTIGUO DE CIMADEVILLA,...</td>\n",
       "      <td>NaN</td>\n",
       "      <td>NaN</td>\n",
       "      <td>NaN</td>\n",
       "      <td>NaN</td>\n",
       "    </tr>\n",
       "    <tr>\n",
       "      <th>2</th>\n",
       "      <td>Cimadevilla</td>\n",
       "      <td>Leve</td>\n",
       "      <td>BARRIO CIMADEVILLA GIJON</td>\n",
       "      <td>NaN</td>\n",
       "      <td>2015</td>\n",
       "      <td>4</td>\n",
       "      <td>14</td>\n",
       "      <td>07:13</td>\n",
       "      <td>90</td>\n",
       "      <td>0</td>\n",
       "      <td>0</td>\n",
       "      <td>PERMANECER EN EL CASCO ANTIGUO DE CIMADEVILLA,...</td>\n",
       "      <td>NaN</td>\n",
       "      <td>NaN</td>\n",
       "      <td>NaN</td>\n",
       "      <td>NaN</td>\n",
       "    </tr>\n",
       "    <tr>\n",
       "      <th>3</th>\n",
       "      <td>Cimadevilla</td>\n",
       "      <td>Leve</td>\n",
       "      <td>BARRIO CIMADEVILLA GIJON</td>\n",
       "      <td>NaN</td>\n",
       "      <td>2015</td>\n",
       "      <td>4</td>\n",
       "      <td>14</td>\n",
       "      <td>07:16</td>\n",
       "      <td>90</td>\n",
       "      <td>0</td>\n",
       "      <td>0</td>\n",
       "      <td>PERMANECER EN EL CASCO ANTIGUO DE CIMADEVILLA,...</td>\n",
       "      <td>NaN</td>\n",
       "      <td>NaN</td>\n",
       "      <td>NaN</td>\n",
       "      <td>NaN</td>\n",
       "    </tr>\n",
       "    <tr>\n",
       "      <th>4</th>\n",
       "      <td>Cimadevilla</td>\n",
       "      <td>Leve</td>\n",
       "      <td>BARRIO CIMADEVILLA GIJON</td>\n",
       "      <td>NaN</td>\n",
       "      <td>2015</td>\n",
       "      <td>4</td>\n",
       "      <td>14</td>\n",
       "      <td>07:21</td>\n",
       "      <td>90</td>\n",
       "      <td>0</td>\n",
       "      <td>0</td>\n",
       "      <td>PERMANECER EN EL CASCO ANTIGUO DE CIMADEVILLA,...</td>\n",
       "      <td>NaN</td>\n",
       "      <td>NaN</td>\n",
       "      <td>NaN</td>\n",
       "      <td>NaN</td>\n",
       "    </tr>\n",
       "  </tbody>\n",
       "</table>\n",
       "</div>"
      ],
      "text/plain": [
       "          TIPO CALIFICACION                     LUGAR  NUMERO   AÑO  MES  DIA  \\\n",
       "0  Cimadevilla         Leve  BARRIO CIMADEVILLA GIJON     NaN  2015    4   13   \n",
       "1  Cimadevilla         Leve  BARRIO CIMADEVILLA GIJON     NaN  2015    4   13   \n",
       "2  Cimadevilla         Leve  BARRIO CIMADEVILLA GIJON     NaN  2015    4   14   \n",
       "3  Cimadevilla         Leve  BARRIO CIMADEVILLA GIJON     NaN  2015    4   14   \n",
       "4  Cimadevilla         Leve  BARRIO CIMADEVILLA GIJON     NaN  2015    4   14   \n",
       "\n",
       "    HORA  IMPORTE  DESCUENTO  PUNTOS  \\\n",
       "0  22:30       90         45       0   \n",
       "1  23:10       90          0       0   \n",
       "2  07:13       90          0       0   \n",
       "3  07:16       90          0       0   \n",
       "4  07:21       90          0       0   \n",
       "\n",
       "                                          INFRACCION VELOCIDAD  \\\n",
       "0  PERMANECER EN EL CASCO ANTIGUO DE CIMADEVILLA,...       NaN   \n",
       "1  PERMANECER EN EL CASCO ANTIGUO DE CIMADEVILLA,...       NaN   \n",
       "2  PERMANECER EN EL CASCO ANTIGUO DE CIMADEVILLA,...       NaN   \n",
       "3  PERMANECER EN EL CASCO ANTIGUO DE CIMADEVILLA,...       NaN   \n",
       "4  PERMANECER EN EL CASCO ANTIGUO DE CIMADEVILLA,...       NaN   \n",
       "\n",
       "  VELOCIDAD_LIMITE  LATITUD  LONGITUD  \n",
       "0              NaN      NaN       NaN  \n",
       "1              NaN      NaN       NaN  \n",
       "2              NaN      NaN       NaN  \n",
       "3              NaN      NaN       NaN  \n",
       "4              NaN      NaN       NaN  "
      ]
     },
     "execution_count": 23,
     "metadata": {},
     "output_type": "execute_result"
    }
   ],
   "source": [
    "filesnames = (\"data/original_data/658.csv\", \"data/original_data/659.csv\",\"data/original_data/660.csv\")\n",
    "\n",
    "dfs = list()\n",
    "for filename in filesnames:    \n",
    "    df = pd.read_csv(filename, encoding=\"ISO-8859-1\")    \n",
    "    dfs.append(df)\n",
    "    \n",
    "multas_2015_2017 = pd.concat(dfs, axis=0, ignore_index=True)\n",
    "\n",
    "multas_2015_2017.head()"
   ]
  },
  {
   "cell_type": "code",
   "execution_count": 24,
   "metadata": {},
   "outputs": [],
   "source": [
    "multas_2018 = pd.read_csv(\"data/original_data/661.csv\")"
   ]
  },
  {
   "cell_type": "code",
   "execution_count": 25,
   "metadata": {},
   "outputs": [],
   "source": [
    "multas = pd.concat([multas_2015_2017, multas_2018], axis=0)"
   ]
  },
  {
   "cell_type": "code",
   "execution_count": 26,
   "metadata": {},
   "outputs": [
    {
     "data": {
      "text/html": [
       "<div>\n",
       "<style scoped>\n",
       "    .dataframe tbody tr th:only-of-type {\n",
       "        vertical-align: middle;\n",
       "    }\n",
       "\n",
       "    .dataframe tbody tr th {\n",
       "        vertical-align: top;\n",
       "    }\n",
       "\n",
       "    .dataframe thead th {\n",
       "        text-align: right;\n",
       "    }\n",
       "</style>\n",
       "<table border=\"1\" class=\"dataframe\">\n",
       "  <thead>\n",
       "    <tr style=\"text-align: right;\">\n",
       "      <th></th>\n",
       "      <th>TIPO</th>\n",
       "      <th>CALIFICACION</th>\n",
       "      <th>LUGAR</th>\n",
       "      <th>NUMERO</th>\n",
       "      <th>AÑO</th>\n",
       "      <th>MES</th>\n",
       "      <th>DIA</th>\n",
       "      <th>HORA</th>\n",
       "      <th>IMPORTE</th>\n",
       "      <th>DESCUENTO</th>\n",
       "      <th>PUNTOS</th>\n",
       "      <th>INFRACCION</th>\n",
       "      <th>VELOCIDAD</th>\n",
       "      <th>VELOCIDAD_LIMITE</th>\n",
       "      <th>LATITUD</th>\n",
       "      <th>LONGITUD</th>\n",
       "    </tr>\n",
       "  </thead>\n",
       "  <tbody>\n",
       "    <tr>\n",
       "      <th>0</th>\n",
       "      <td>Cimadevilla</td>\n",
       "      <td>Leve</td>\n",
       "      <td>BARRIO CIMADEVILLA GIJON</td>\n",
       "      <td>NaN</td>\n",
       "      <td>2015</td>\n",
       "      <td>4</td>\n",
       "      <td>13</td>\n",
       "      <td>22:30</td>\n",
       "      <td>90</td>\n",
       "      <td>45</td>\n",
       "      <td>0</td>\n",
       "      <td>PERMANECER EN EL CASCO ANTIGUO DE CIMADEVILLA,...</td>\n",
       "      <td>NaN</td>\n",
       "      <td>NaN</td>\n",
       "      <td>NaN</td>\n",
       "      <td>NaN</td>\n",
       "    </tr>\n",
       "    <tr>\n",
       "      <th>1</th>\n",
       "      <td>Cimadevilla</td>\n",
       "      <td>Leve</td>\n",
       "      <td>BARRIO CIMADEVILLA GIJON</td>\n",
       "      <td>NaN</td>\n",
       "      <td>2015</td>\n",
       "      <td>4</td>\n",
       "      <td>13</td>\n",
       "      <td>23:10</td>\n",
       "      <td>90</td>\n",
       "      <td>0</td>\n",
       "      <td>0</td>\n",
       "      <td>PERMANECER EN EL CASCO ANTIGUO DE CIMADEVILLA,...</td>\n",
       "      <td>NaN</td>\n",
       "      <td>NaN</td>\n",
       "      <td>NaN</td>\n",
       "      <td>NaN</td>\n",
       "    </tr>\n",
       "    <tr>\n",
       "      <th>2</th>\n",
       "      <td>Cimadevilla</td>\n",
       "      <td>Leve</td>\n",
       "      <td>BARRIO CIMADEVILLA GIJON</td>\n",
       "      <td>NaN</td>\n",
       "      <td>2015</td>\n",
       "      <td>4</td>\n",
       "      <td>14</td>\n",
       "      <td>07:13</td>\n",
       "      <td>90</td>\n",
       "      <td>0</td>\n",
       "      <td>0</td>\n",
       "      <td>PERMANECER EN EL CASCO ANTIGUO DE CIMADEVILLA,...</td>\n",
       "      <td>NaN</td>\n",
       "      <td>NaN</td>\n",
       "      <td>NaN</td>\n",
       "      <td>NaN</td>\n",
       "    </tr>\n",
       "    <tr>\n",
       "      <th>3</th>\n",
       "      <td>Cimadevilla</td>\n",
       "      <td>Leve</td>\n",
       "      <td>BARRIO CIMADEVILLA GIJON</td>\n",
       "      <td>NaN</td>\n",
       "      <td>2015</td>\n",
       "      <td>4</td>\n",
       "      <td>14</td>\n",
       "      <td>07:16</td>\n",
       "      <td>90</td>\n",
       "      <td>0</td>\n",
       "      <td>0</td>\n",
       "      <td>PERMANECER EN EL CASCO ANTIGUO DE CIMADEVILLA,...</td>\n",
       "      <td>NaN</td>\n",
       "      <td>NaN</td>\n",
       "      <td>NaN</td>\n",
       "      <td>NaN</td>\n",
       "    </tr>\n",
       "    <tr>\n",
       "      <th>4</th>\n",
       "      <td>Cimadevilla</td>\n",
       "      <td>Leve</td>\n",
       "      <td>BARRIO CIMADEVILLA GIJON</td>\n",
       "      <td>NaN</td>\n",
       "      <td>2015</td>\n",
       "      <td>4</td>\n",
       "      <td>14</td>\n",
       "      <td>07:21</td>\n",
       "      <td>90</td>\n",
       "      <td>0</td>\n",
       "      <td>0</td>\n",
       "      <td>PERMANECER EN EL CASCO ANTIGUO DE CIMADEVILLA,...</td>\n",
       "      <td>NaN</td>\n",
       "      <td>NaN</td>\n",
       "      <td>NaN</td>\n",
       "      <td>NaN</td>\n",
       "    </tr>\n",
       "  </tbody>\n",
       "</table>\n",
       "</div>"
      ],
      "text/plain": [
       "          TIPO CALIFICACION                     LUGAR  NUMERO   AÑO  MES  DIA  \\\n",
       "0  Cimadevilla         Leve  BARRIO CIMADEVILLA GIJON     NaN  2015    4   13   \n",
       "1  Cimadevilla         Leve  BARRIO CIMADEVILLA GIJON     NaN  2015    4   13   \n",
       "2  Cimadevilla         Leve  BARRIO CIMADEVILLA GIJON     NaN  2015    4   14   \n",
       "3  Cimadevilla         Leve  BARRIO CIMADEVILLA GIJON     NaN  2015    4   14   \n",
       "4  Cimadevilla         Leve  BARRIO CIMADEVILLA GIJON     NaN  2015    4   14   \n",
       "\n",
       "    HORA  IMPORTE  DESCUENTO  PUNTOS  \\\n",
       "0  22:30       90         45       0   \n",
       "1  23:10       90          0       0   \n",
       "2  07:13       90          0       0   \n",
       "3  07:16       90          0       0   \n",
       "4  07:21       90          0       0   \n",
       "\n",
       "                                          INFRACCION VELOCIDAD  \\\n",
       "0  PERMANECER EN EL CASCO ANTIGUO DE CIMADEVILLA,...       NaN   \n",
       "1  PERMANECER EN EL CASCO ANTIGUO DE CIMADEVILLA,...       NaN   \n",
       "2  PERMANECER EN EL CASCO ANTIGUO DE CIMADEVILLA,...       NaN   \n",
       "3  PERMANECER EN EL CASCO ANTIGUO DE CIMADEVILLA,...       NaN   \n",
       "4  PERMANECER EN EL CASCO ANTIGUO DE CIMADEVILLA,...       NaN   \n",
       "\n",
       "  VELOCIDAD_LIMITE  LATITUD  LONGITUD  \n",
       "0              NaN      NaN       NaN  \n",
       "1              NaN      NaN       NaN  \n",
       "2              NaN      NaN       NaN  \n",
       "3              NaN      NaN       NaN  \n",
       "4              NaN      NaN       NaN  "
      ]
     },
     "execution_count": 26,
     "metadata": {},
     "output_type": "execute_result"
    }
   ],
   "source": [
    "multas.head()"
   ]
  },
  {
   "cell_type": "code",
   "execution_count": 27,
   "metadata": {},
   "outputs": [
    {
     "data": {
      "text/plain": [
       "Index(['TIPO', 'CALIFICACION', 'LUGAR', 'NUMERO', 'AÑO', 'MES', 'DIA', 'HORA',\n",
       "       'IMPORTE', 'DESCUENTO', 'PUNTOS', 'INFRACCION', 'VELOCIDAD',\n",
       "       'VELOCIDAD_LIMITE', 'LATITUD', 'LONGITUD'],\n",
       "      dtype='object')"
      ]
     },
     "execution_count": 27,
     "metadata": {},
     "output_type": "execute_result"
    }
   ],
   "source": [
    "multas.columns"
   ]
  },
  {
   "cell_type": "markdown",
   "metadata": {},
   "source": [
    "Si observamos los formatos de las variables vemos, por ejemplo, tenemos el mes, el día y la hora separados \n",
    "en distintas variables. "
   ]
  },
  {
   "cell_type": "code",
   "execution_count": 28,
   "metadata": {},
   "outputs": [
    {
     "name": "stdout",
     "output_type": "stream",
     "text": [
      "<class 'pandas.core.frame.DataFrame'>\n",
      "Int64Index: 250171 entries, 0 to 66958\n",
      "Data columns (total 16 columns):\n",
      "TIPO                250171 non-null object\n",
      "CALIFICACION        250171 non-null object\n",
      "LUGAR               250171 non-null object\n",
      "NUMERO              155614 non-null float64\n",
      "AÑO                 250171 non-null int64\n",
      "MES                 250171 non-null int64\n",
      "DIA                 250171 non-null int64\n",
      "HORA                250171 non-null object\n",
      "IMPORTE             250171 non-null int64\n",
      "DESCUENTO           250171 non-null int64\n",
      "PUNTOS              250171 non-null int64\n",
      "INFRACCION          250171 non-null object\n",
      "VELOCIDAD           124465 non-null object\n",
      "VELOCIDAD_LIMITE    124468 non-null object\n",
      "LATITUD             137880 non-null float64\n",
      "LONGITUD            137880 non-null float64\n",
      "dtypes: float64(3), int64(6), object(7)\n",
      "memory usage: 32.4+ MB\n"
     ]
    }
   ],
   "source": [
    "multas.info()"
   ]
  },
  {
   "cell_type": "markdown",
   "metadata": {},
   "source": []
  },
  {
   "cell_type": "markdown",
   "metadata": {},
   "source": [
    "Antes cambiamos los nombres de las variables para que la función que vamos a utilizar las reconozca"
   ]
  },
  {
   "cell_type": "code",
   "execution_count": 29,
   "metadata": {},
   "outputs": [],
   "source": [
    "multas = multas.rename(columns={'AÑO':'year', 'MES':'month','DIA':'day'})"
   ]
  },
  {
   "cell_type": "code",
   "execution_count": 30,
   "metadata": {},
   "outputs": [
    {
     "data": {
      "text/plain": [
       "Index(['TIPO', 'CALIFICACION', 'LUGAR', 'NUMERO', 'year', 'month', 'day',\n",
       "       'HORA', 'IMPORTE', 'DESCUENTO', 'PUNTOS', 'INFRACCION', 'VELOCIDAD',\n",
       "       'VELOCIDAD_LIMITE', 'LATITUD', 'LONGITUD'],\n",
       "      dtype='object')"
      ]
     },
     "execution_count": 30,
     "metadata": {},
     "output_type": "execute_result"
    }
   ],
   "source": [
    "multas.columns"
   ]
  },
  {
   "cell_type": "code",
   "execution_count": 31,
   "metadata": {},
   "outputs": [],
   "source": [
    "multas = multas.rename(columns={'AÑO':'year', 'MES':'month','DIA':'day'})"
   ]
  },
  {
   "cell_type": "code",
   "execution_count": 35,
   "metadata": {},
   "outputs": [],
   "source": [
    "multas[['hour', 'minute']] = multas.HORA.str.split(pat = \":\", n = 1, expand = True)"
   ]
  },
  {
   "cell_type": "code",
   "execution_count": 33,
   "metadata": {
    "scrolled": true
   },
   "outputs": [
    {
     "data": {
      "text/html": [
       "<div>\n",
       "<style scoped>\n",
       "    .dataframe tbody tr th:only-of-type {\n",
       "        vertical-align: middle;\n",
       "    }\n",
       "\n",
       "    .dataframe tbody tr th {\n",
       "        vertical-align: top;\n",
       "    }\n",
       "\n",
       "    .dataframe thead th {\n",
       "        text-align: right;\n",
       "    }\n",
       "</style>\n",
       "<table border=\"1\" class=\"dataframe\">\n",
       "  <thead>\n",
       "    <tr style=\"text-align: right;\">\n",
       "      <th></th>\n",
       "      <th>TIPO</th>\n",
       "      <th>CALIFICACION</th>\n",
       "      <th>LUGAR</th>\n",
       "      <th>NUMERO</th>\n",
       "      <th>year</th>\n",
       "      <th>month</th>\n",
       "      <th>day</th>\n",
       "      <th>HORA</th>\n",
       "      <th>IMPORTE</th>\n",
       "      <th>DESCUENTO</th>\n",
       "      <th>PUNTOS</th>\n",
       "      <th>INFRACCION</th>\n",
       "      <th>VELOCIDAD</th>\n",
       "      <th>VELOCIDAD_LIMITE</th>\n",
       "      <th>LATITUD</th>\n",
       "      <th>LONGITUD</th>\n",
       "      <th>hora</th>\n",
       "      <th>minute</th>\n",
       "    </tr>\n",
       "  </thead>\n",
       "  <tbody>\n",
       "    <tr>\n",
       "      <th>0</th>\n",
       "      <td>Cimadevilla</td>\n",
       "      <td>Leve</td>\n",
       "      <td>BARRIO CIMADEVILLA GIJON</td>\n",
       "      <td>NaN</td>\n",
       "      <td>2015</td>\n",
       "      <td>4</td>\n",
       "      <td>13</td>\n",
       "      <td>22:30</td>\n",
       "      <td>90</td>\n",
       "      <td>45</td>\n",
       "      <td>0</td>\n",
       "      <td>PERMANECER EN EL CASCO ANTIGUO DE CIMADEVILLA,...</td>\n",
       "      <td>NaN</td>\n",
       "      <td>NaN</td>\n",
       "      <td>NaN</td>\n",
       "      <td>NaN</td>\n",
       "      <td>22</td>\n",
       "      <td>30</td>\n",
       "    </tr>\n",
       "    <tr>\n",
       "      <th>1</th>\n",
       "      <td>Cimadevilla</td>\n",
       "      <td>Leve</td>\n",
       "      <td>BARRIO CIMADEVILLA GIJON</td>\n",
       "      <td>NaN</td>\n",
       "      <td>2015</td>\n",
       "      <td>4</td>\n",
       "      <td>13</td>\n",
       "      <td>23:10</td>\n",
       "      <td>90</td>\n",
       "      <td>0</td>\n",
       "      <td>0</td>\n",
       "      <td>PERMANECER EN EL CASCO ANTIGUO DE CIMADEVILLA,...</td>\n",
       "      <td>NaN</td>\n",
       "      <td>NaN</td>\n",
       "      <td>NaN</td>\n",
       "      <td>NaN</td>\n",
       "      <td>23</td>\n",
       "      <td>10</td>\n",
       "    </tr>\n",
       "    <tr>\n",
       "      <th>2</th>\n",
       "      <td>Cimadevilla</td>\n",
       "      <td>Leve</td>\n",
       "      <td>BARRIO CIMADEVILLA GIJON</td>\n",
       "      <td>NaN</td>\n",
       "      <td>2015</td>\n",
       "      <td>4</td>\n",
       "      <td>14</td>\n",
       "      <td>07:13</td>\n",
       "      <td>90</td>\n",
       "      <td>0</td>\n",
       "      <td>0</td>\n",
       "      <td>PERMANECER EN EL CASCO ANTIGUO DE CIMADEVILLA,...</td>\n",
       "      <td>NaN</td>\n",
       "      <td>NaN</td>\n",
       "      <td>NaN</td>\n",
       "      <td>NaN</td>\n",
       "      <td>07</td>\n",
       "      <td>13</td>\n",
       "    </tr>\n",
       "    <tr>\n",
       "      <th>3</th>\n",
       "      <td>Cimadevilla</td>\n",
       "      <td>Leve</td>\n",
       "      <td>BARRIO CIMADEVILLA GIJON</td>\n",
       "      <td>NaN</td>\n",
       "      <td>2015</td>\n",
       "      <td>4</td>\n",
       "      <td>14</td>\n",
       "      <td>07:16</td>\n",
       "      <td>90</td>\n",
       "      <td>0</td>\n",
       "      <td>0</td>\n",
       "      <td>PERMANECER EN EL CASCO ANTIGUO DE CIMADEVILLA,...</td>\n",
       "      <td>NaN</td>\n",
       "      <td>NaN</td>\n",
       "      <td>NaN</td>\n",
       "      <td>NaN</td>\n",
       "      <td>07</td>\n",
       "      <td>16</td>\n",
       "    </tr>\n",
       "    <tr>\n",
       "      <th>4</th>\n",
       "      <td>Cimadevilla</td>\n",
       "      <td>Leve</td>\n",
       "      <td>BARRIO CIMADEVILLA GIJON</td>\n",
       "      <td>NaN</td>\n",
       "      <td>2015</td>\n",
       "      <td>4</td>\n",
       "      <td>14</td>\n",
       "      <td>07:21</td>\n",
       "      <td>90</td>\n",
       "      <td>0</td>\n",
       "      <td>0</td>\n",
       "      <td>PERMANECER EN EL CASCO ANTIGUO DE CIMADEVILLA,...</td>\n",
       "      <td>NaN</td>\n",
       "      <td>NaN</td>\n",
       "      <td>NaN</td>\n",
       "      <td>NaN</td>\n",
       "      <td>07</td>\n",
       "      <td>21</td>\n",
       "    </tr>\n",
       "  </tbody>\n",
       "</table>\n",
       "</div>"
      ],
      "text/plain": [
       "          TIPO CALIFICACION                     LUGAR  NUMERO  year  month  \\\n",
       "0  Cimadevilla         Leve  BARRIO CIMADEVILLA GIJON     NaN  2015      4   \n",
       "1  Cimadevilla         Leve  BARRIO CIMADEVILLA GIJON     NaN  2015      4   \n",
       "2  Cimadevilla         Leve  BARRIO CIMADEVILLA GIJON     NaN  2015      4   \n",
       "3  Cimadevilla         Leve  BARRIO CIMADEVILLA GIJON     NaN  2015      4   \n",
       "4  Cimadevilla         Leve  BARRIO CIMADEVILLA GIJON     NaN  2015      4   \n",
       "\n",
       "   day   HORA  IMPORTE  DESCUENTO  PUNTOS  \\\n",
       "0   13  22:30       90         45       0   \n",
       "1   13  23:10       90          0       0   \n",
       "2   14  07:13       90          0       0   \n",
       "3   14  07:16       90          0       0   \n",
       "4   14  07:21       90          0       0   \n",
       "\n",
       "                                          INFRACCION VELOCIDAD  \\\n",
       "0  PERMANECER EN EL CASCO ANTIGUO DE CIMADEVILLA,...       NaN   \n",
       "1  PERMANECER EN EL CASCO ANTIGUO DE CIMADEVILLA,...       NaN   \n",
       "2  PERMANECER EN EL CASCO ANTIGUO DE CIMADEVILLA,...       NaN   \n",
       "3  PERMANECER EN EL CASCO ANTIGUO DE CIMADEVILLA,...       NaN   \n",
       "4  PERMANECER EN EL CASCO ANTIGUO DE CIMADEVILLA,...       NaN   \n",
       "\n",
       "  VELOCIDAD_LIMITE  LATITUD  LONGITUD hora minute  \n",
       "0              NaN      NaN       NaN   22     30  \n",
       "1              NaN      NaN       NaN   23     10  \n",
       "2              NaN      NaN       NaN   07     13  \n",
       "3              NaN      NaN       NaN   07     16  \n",
       "4              NaN      NaN       NaN   07     21  "
      ]
     },
     "execution_count": 33,
     "metadata": {},
     "output_type": "execute_result"
    }
   ],
   "source": [
    "multas.head()"
   ]
  },
  {
   "cell_type": "code",
   "execution_count": null,
   "metadata": {},
   "outputs": [],
   "source": []
  },
  {
   "cell_type": "code",
   "execution_count": null,
   "metadata": {},
   "outputs": [],
   "source": []
  },
  {
   "cell_type": "code",
   "execution_count": null,
   "metadata": {},
   "outputs": [],
   "source": []
  },
  {
   "cell_type": "code",
   "execution_count": null,
   "metadata": {},
   "outputs": [],
   "source": []
  },
  {
   "cell_type": "code",
   "execution_count": null,
   "metadata": {},
   "outputs": [],
   "source": []
  },
  {
   "cell_type": "code",
   "execution_count": 36,
   "metadata": {
    "scrolled": true
   },
   "outputs": [
    {
     "data": {
      "text/html": [
       "<div>\n",
       "<style scoped>\n",
       "    .dataframe tbody tr th:only-of-type {\n",
       "        vertical-align: middle;\n",
       "    }\n",
       "\n",
       "    .dataframe tbody tr th {\n",
       "        vertical-align: top;\n",
       "    }\n",
       "\n",
       "    .dataframe thead th {\n",
       "        text-align: right;\n",
       "    }\n",
       "</style>\n",
       "<table border=\"1\" class=\"dataframe\">\n",
       "  <thead>\n",
       "    <tr style=\"text-align: right;\">\n",
       "      <th></th>\n",
       "      <th>TIPO</th>\n",
       "      <th>CALIFICACION</th>\n",
       "      <th>LUGAR</th>\n",
       "      <th>NUMERO</th>\n",
       "      <th>year</th>\n",
       "      <th>month</th>\n",
       "      <th>day</th>\n",
       "      <th>HORA</th>\n",
       "      <th>IMPORTE</th>\n",
       "      <th>DESCUENTO</th>\n",
       "      <th>...</th>\n",
       "      <th>INFRACCION</th>\n",
       "      <th>VELOCIDAD</th>\n",
       "      <th>VELOCIDAD_LIMITE</th>\n",
       "      <th>LATITUD</th>\n",
       "      <th>LONGITUD</th>\n",
       "      <th>hora</th>\n",
       "      <th>minute</th>\n",
       "      <th>date</th>\n",
       "      <th>hour</th>\n",
       "      <th>date_time</th>\n",
       "    </tr>\n",
       "  </thead>\n",
       "  <tbody>\n",
       "    <tr>\n",
       "      <th>0</th>\n",
       "      <td>Cimadevilla</td>\n",
       "      <td>Leve</td>\n",
       "      <td>BARRIO CIMADEVILLA GIJON</td>\n",
       "      <td>NaN</td>\n",
       "      <td>2015</td>\n",
       "      <td>4</td>\n",
       "      <td>13</td>\n",
       "      <td>22:30</td>\n",
       "      <td>90</td>\n",
       "      <td>45</td>\n",
       "      <td>...</td>\n",
       "      <td>PERMANECER EN EL CASCO ANTIGUO DE CIMADEVILLA,...</td>\n",
       "      <td>NaN</td>\n",
       "      <td>NaN</td>\n",
       "      <td>NaN</td>\n",
       "      <td>NaN</td>\n",
       "      <td>22</td>\n",
       "      <td>30</td>\n",
       "      <td>2015-04-13</td>\n",
       "      <td>22</td>\n",
       "      <td>2015-04-13 22:30:00</td>\n",
       "    </tr>\n",
       "    <tr>\n",
       "      <th>1</th>\n",
       "      <td>Cimadevilla</td>\n",
       "      <td>Leve</td>\n",
       "      <td>BARRIO CIMADEVILLA GIJON</td>\n",
       "      <td>NaN</td>\n",
       "      <td>2015</td>\n",
       "      <td>4</td>\n",
       "      <td>13</td>\n",
       "      <td>23:10</td>\n",
       "      <td>90</td>\n",
       "      <td>0</td>\n",
       "      <td>...</td>\n",
       "      <td>PERMANECER EN EL CASCO ANTIGUO DE CIMADEVILLA,...</td>\n",
       "      <td>NaN</td>\n",
       "      <td>NaN</td>\n",
       "      <td>NaN</td>\n",
       "      <td>NaN</td>\n",
       "      <td>23</td>\n",
       "      <td>10</td>\n",
       "      <td>2015-04-13</td>\n",
       "      <td>23</td>\n",
       "      <td>2015-04-13 23:10:00</td>\n",
       "    </tr>\n",
       "    <tr>\n",
       "      <th>2</th>\n",
       "      <td>Cimadevilla</td>\n",
       "      <td>Leve</td>\n",
       "      <td>BARRIO CIMADEVILLA GIJON</td>\n",
       "      <td>NaN</td>\n",
       "      <td>2015</td>\n",
       "      <td>4</td>\n",
       "      <td>14</td>\n",
       "      <td>07:13</td>\n",
       "      <td>90</td>\n",
       "      <td>0</td>\n",
       "      <td>...</td>\n",
       "      <td>PERMANECER EN EL CASCO ANTIGUO DE CIMADEVILLA,...</td>\n",
       "      <td>NaN</td>\n",
       "      <td>NaN</td>\n",
       "      <td>NaN</td>\n",
       "      <td>NaN</td>\n",
       "      <td>07</td>\n",
       "      <td>13</td>\n",
       "      <td>2015-04-14</td>\n",
       "      <td>07</td>\n",
       "      <td>2015-04-14 07:13:00</td>\n",
       "    </tr>\n",
       "    <tr>\n",
       "      <th>3</th>\n",
       "      <td>Cimadevilla</td>\n",
       "      <td>Leve</td>\n",
       "      <td>BARRIO CIMADEVILLA GIJON</td>\n",
       "      <td>NaN</td>\n",
       "      <td>2015</td>\n",
       "      <td>4</td>\n",
       "      <td>14</td>\n",
       "      <td>07:16</td>\n",
       "      <td>90</td>\n",
       "      <td>0</td>\n",
       "      <td>...</td>\n",
       "      <td>PERMANECER EN EL CASCO ANTIGUO DE CIMADEVILLA,...</td>\n",
       "      <td>NaN</td>\n",
       "      <td>NaN</td>\n",
       "      <td>NaN</td>\n",
       "      <td>NaN</td>\n",
       "      <td>07</td>\n",
       "      <td>16</td>\n",
       "      <td>2015-04-14</td>\n",
       "      <td>07</td>\n",
       "      <td>2015-04-14 07:16:00</td>\n",
       "    </tr>\n",
       "    <tr>\n",
       "      <th>4</th>\n",
       "      <td>Cimadevilla</td>\n",
       "      <td>Leve</td>\n",
       "      <td>BARRIO CIMADEVILLA GIJON</td>\n",
       "      <td>NaN</td>\n",
       "      <td>2015</td>\n",
       "      <td>4</td>\n",
       "      <td>14</td>\n",
       "      <td>07:21</td>\n",
       "      <td>90</td>\n",
       "      <td>0</td>\n",
       "      <td>...</td>\n",
       "      <td>PERMANECER EN EL CASCO ANTIGUO DE CIMADEVILLA,...</td>\n",
       "      <td>NaN</td>\n",
       "      <td>NaN</td>\n",
       "      <td>NaN</td>\n",
       "      <td>NaN</td>\n",
       "      <td>07</td>\n",
       "      <td>21</td>\n",
       "      <td>2015-04-14</td>\n",
       "      <td>07</td>\n",
       "      <td>2015-04-14 07:21:00</td>\n",
       "    </tr>\n",
       "  </tbody>\n",
       "</table>\n",
       "<p>5 rows × 21 columns</p>\n",
       "</div>"
      ],
      "text/plain": [
       "          TIPO CALIFICACION                     LUGAR  NUMERO  year  month  \\\n",
       "0  Cimadevilla         Leve  BARRIO CIMADEVILLA GIJON     NaN  2015      4   \n",
       "1  Cimadevilla         Leve  BARRIO CIMADEVILLA GIJON     NaN  2015      4   \n",
       "2  Cimadevilla         Leve  BARRIO CIMADEVILLA GIJON     NaN  2015      4   \n",
       "3  Cimadevilla         Leve  BARRIO CIMADEVILLA GIJON     NaN  2015      4   \n",
       "4  Cimadevilla         Leve  BARRIO CIMADEVILLA GIJON     NaN  2015      4   \n",
       "\n",
       "   day   HORA  IMPORTE  DESCUENTO         ...          \\\n",
       "0   13  22:30       90         45         ...           \n",
       "1   13  23:10       90          0         ...           \n",
       "2   14  07:13       90          0         ...           \n",
       "3   14  07:16       90          0         ...           \n",
       "4   14  07:21       90          0         ...           \n",
       "\n",
       "                                          INFRACCION VELOCIDAD  \\\n",
       "0  PERMANECER EN EL CASCO ANTIGUO DE CIMADEVILLA,...       NaN   \n",
       "1  PERMANECER EN EL CASCO ANTIGUO DE CIMADEVILLA,...       NaN   \n",
       "2  PERMANECER EN EL CASCO ANTIGUO DE CIMADEVILLA,...       NaN   \n",
       "3  PERMANECER EN EL CASCO ANTIGUO DE CIMADEVILLA,...       NaN   \n",
       "4  PERMANECER EN EL CASCO ANTIGUO DE CIMADEVILLA,...       NaN   \n",
       "\n",
       "  VELOCIDAD_LIMITE LATITUD  LONGITUD  hora minute       date hour  \\\n",
       "0              NaN     NaN       NaN    22     30 2015-04-13   22   \n",
       "1              NaN     NaN       NaN    23     10 2015-04-13   23   \n",
       "2              NaN     NaN       NaN    07     13 2015-04-14   07   \n",
       "3              NaN     NaN       NaN    07     16 2015-04-14   07   \n",
       "4              NaN     NaN       NaN    07     21 2015-04-14   07   \n",
       "\n",
       "            date_time  \n",
       "0 2015-04-13 22:30:00  \n",
       "1 2015-04-13 23:10:00  \n",
       "2 2015-04-14 07:13:00  \n",
       "3 2015-04-14 07:16:00  \n",
       "4 2015-04-14 07:21:00  \n",
       "\n",
       "[5 rows x 21 columns]"
      ]
     },
     "execution_count": 36,
     "metadata": {},
     "output_type": "execute_result"
    }
   ],
   "source": [
    "\n",
    "multas['date'] = pd.to_datetime(multas[['year', 'month', 'day']])\n",
    "multas['date_time'] = pd.to_datetime(multas[['year', 'month', 'day', 'hour', 'minute']])\n",
    "multas.head()"
   ]
  },
  {
   "cell_type": "code",
   "execution_count": 37,
   "metadata": {},
   "outputs": [
    {
     "name": "stdout",
     "output_type": "stream",
     "text": [
      "<class 'pandas.core.frame.DataFrame'>\n",
      "Int64Index: 250171 entries, 0 to 66958\n",
      "Data columns (total 21 columns):\n",
      "TIPO                250171 non-null object\n",
      "CALIFICACION        250171 non-null object\n",
      "LUGAR               250171 non-null object\n",
      "NUMERO              155614 non-null float64\n",
      "year                250171 non-null int64\n",
      "month               250171 non-null int64\n",
      "day                 250171 non-null int64\n",
      "HORA                250171 non-null object\n",
      "IMPORTE             250171 non-null int64\n",
      "DESCUENTO           250171 non-null int64\n",
      "PUNTOS              250171 non-null int64\n",
      "INFRACCION          250171 non-null object\n",
      "VELOCIDAD           124465 non-null object\n",
      "VELOCIDAD_LIMITE    124468 non-null object\n",
      "LATITUD             137880 non-null float64\n",
      "LONGITUD            137880 non-null float64\n",
      "hora                250171 non-null object\n",
      "minute              250171 non-null object\n",
      "date                250171 non-null datetime64[ns]\n",
      "hour                250171 non-null object\n",
      "date_time           250171 non-null datetime64[ns]\n",
      "dtypes: datetime64[ns](2), float64(3), int64(6), object(10)\n",
      "memory usage: 42.0+ MB\n"
     ]
    }
   ],
   "source": [
    "multas.info()"
   ]
  },
  {
   "cell_type": "code",
   "execution_count": 38,
   "metadata": {},
   "outputs": [
    {
     "data": {
      "image/png": "[encoded data removed]",
      "text/plain": [
       "<Figure size 432x288 with 1 Axes>"
      ]
     },
     "metadata": {},
     "output_type": "display_data"
    }
   ],
   "source": [
    "plt.hist(multas['IMPORTE'])\n",
    "plt.show()"
   ]
  },
  {
   "cell_type": "code",
   "execution_count": 39,
   "metadata": {},
   "outputs": [
    {
     "data": {
      "text/plain": [
       "3000"
      ]
     },
     "execution_count": 39,
     "metadata": {},
     "output_type": "execute_result"
    }
   ],
   "source": [
    "multas['IMPORTE'].max()"
   ]
  },
  {
   "cell_type": "code",
   "execution_count": 40,
   "metadata": {},
   "outputs": [
    {
     "data": {
      "text/plain": [
       "80"
      ]
     },
     "execution_count": 40,
     "metadata": {},
     "output_type": "execute_result"
    }
   ],
   "source": [
    "multas['IMPORTE'].min()"
   ]
  },
  {
   "cell_type": "code",
   "execution_count": 41,
   "metadata": {
    "scrolled": true
   },
   "outputs": [
    {
     "data": {
      "text/plain": [
       "100.0"
      ]
     },
     "execution_count": 41,
     "metadata": {},
     "output_type": "execute_result"
    }
   ],
   "source": [
    "multas['IMPORTE'].median()"
   ]
  },
  {
   "cell_type": "code",
   "execution_count": 42,
   "metadata": {
    "scrolled": true
   },
   "outputs": [
    {
     "data": {
      "text/html": [
       "<div>\n",
       "<style scoped>\n",
       "    .dataframe tbody tr th:only-of-type {\n",
       "        vertical-align: middle;\n",
       "    }\n",
       "\n",
       "    .dataframe tbody tr th {\n",
       "        vertical-align: top;\n",
       "    }\n",
       "\n",
       "    .dataframe thead th {\n",
       "        text-align: right;\n",
       "    }\n",
       "</style>\n",
       "<table border=\"1\" class=\"dataframe\">\n",
       "  <thead>\n",
       "    <tr style=\"text-align: right;\">\n",
       "      <th></th>\n",
       "    </tr>\n",
       "    <tr>\n",
       "      <th>IMPORTE</th>\n",
       "    </tr>\n",
       "  </thead>\n",
       "  <tbody>\n",
       "    <tr>\n",
       "      <th>80</th>\n",
       "    </tr>\n",
       "    <tr>\n",
       "      <th>90</th>\n",
       "    </tr>\n",
       "    <tr>\n",
       "      <th>100</th>\n",
       "    </tr>\n",
       "    <tr>\n",
       "      <th>200</th>\n",
       "    </tr>\n",
       "    <tr>\n",
       "      <th>300</th>\n",
       "    </tr>\n",
       "    <tr>\n",
       "      <th>400</th>\n",
       "    </tr>\n",
       "    <tr>\n",
       "      <th>500</th>\n",
       "    </tr>\n",
       "    <tr>\n",
       "      <th>600</th>\n",
       "    </tr>\n",
       "    <tr>\n",
       "      <th>1000</th>\n",
       "    </tr>\n",
       "    <tr>\n",
       "      <th>3000</th>\n",
       "    </tr>\n",
       "  </tbody>\n",
       "</table>\n",
       "</div>"
      ],
      "text/plain": [
       "Empty DataFrame\n",
       "Columns: []\n",
       "Index: [80, 90, 100, 200, 300, 400, 500, 600, 1000, 3000]"
      ]
     },
     "execution_count": 42,
     "metadata": {},
     "output_type": "execute_result"
    }
   ],
   "source": [
    "importes = multas[['IMPORTE']]\n",
    "\n",
    "importes = importes.astype('object')\n",
    "\n",
    "importes.groupby('IMPORTE').count()"
   ]
  },
  {
   "cell_type": "code",
   "execution_count": 43,
   "metadata": {},
   "outputs": [
    {
     "data": {
      "text/plain": [
       "250171"
      ]
     },
     "execution_count": 43,
     "metadata": {},
     "output_type": "execute_result"
    }
   ],
   "source": [
    "multas.IMPORTE.astype('object').count()"
   ]
  },
  {
   "cell_type": "code",
   "execution_count": 44,
   "metadata": {},
   "outputs": [
    {
     "data": {
      "text/html": [
       "<div>\n",
       "<style scoped>\n",
       "    .dataframe tbody tr th:only-of-type {\n",
       "        vertical-align: middle;\n",
       "    }\n",
       "\n",
       "    .dataframe tbody tr th {\n",
       "        vertical-align: top;\n",
       "    }\n",
       "\n",
       "    .dataframe thead th {\n",
       "        text-align: right;\n",
       "    }\n",
       "</style>\n",
       "<table border=\"1\" class=\"dataframe\">\n",
       "  <thead>\n",
       "    <tr style=\"text-align: right;\">\n",
       "      <th></th>\n",
       "      <th>NUMERO</th>\n",
       "      <th>year</th>\n",
       "      <th>month</th>\n",
       "      <th>day</th>\n",
       "      <th>IMPORTE</th>\n",
       "      <th>DESCUENTO</th>\n",
       "      <th>PUNTOS</th>\n",
       "      <th>LATITUD</th>\n",
       "      <th>LONGITUD</th>\n",
       "    </tr>\n",
       "  </thead>\n",
       "  <tbody>\n",
       "    <tr>\n",
       "      <th>count</th>\n",
       "      <td>155614.000000</td>\n",
       "      <td>250171.000000</td>\n",
       "      <td>250171.000000</td>\n",
       "      <td>250171.000000</td>\n",
       "      <td>250171.000000</td>\n",
       "      <td>250171.000000</td>\n",
       "      <td>250171.000000</td>\n",
       "      <td>137880.000000</td>\n",
       "      <td>137880.000000</td>\n",
       "    </tr>\n",
       "    <tr>\n",
       "      <th>mean</th>\n",
       "      <td>86.590262</td>\n",
       "      <td>2016.612621</td>\n",
       "      <td>6.644979</td>\n",
       "      <td>15.749164</td>\n",
       "      <td>125.005336</td>\n",
       "      <td>41.946169</td>\n",
       "      <td>0.273953</td>\n",
       "      <td>43.532872</td>\n",
       "      <td>-5.669181</td>\n",
       "    </tr>\n",
       "    <tr>\n",
       "      <th>std</th>\n",
       "      <td>470.248476</td>\n",
       "      <td>1.077357</td>\n",
       "      <td>3.281613</td>\n",
       "      <td>8.769704</td>\n",
       "      <td>96.068682</td>\n",
       "      <td>39.687286</td>\n",
       "      <td>1.007895</td>\n",
       "      <td>0.007841</td>\n",
       "      <td>0.014772</td>\n",
       "    </tr>\n",
       "    <tr>\n",
       "      <th>min</th>\n",
       "      <td>1.000000</td>\n",
       "      <td>2015.000000</td>\n",
       "      <td>1.000000</td>\n",
       "      <td>1.000000</td>\n",
       "      <td>80.000000</td>\n",
       "      <td>0.000000</td>\n",
       "      <td>0.000000</td>\n",
       "      <td>43.485325</td>\n",
       "      <td>-5.716753</td>\n",
       "    </tr>\n",
       "    <tr>\n",
       "      <th>25%</th>\n",
       "      <td>9.000000</td>\n",
       "      <td>2016.000000</td>\n",
       "      <td>4.000000</td>\n",
       "      <td>8.000000</td>\n",
       "      <td>90.000000</td>\n",
       "      <td>0.000000</td>\n",
       "      <td>0.000000</td>\n",
       "      <td>43.524586</td>\n",
       "      <td>-5.682149</td>\n",
       "    </tr>\n",
       "    <tr>\n",
       "      <th>50%</th>\n",
       "      <td>15.000000</td>\n",
       "      <td>2017.000000</td>\n",
       "      <td>7.000000</td>\n",
       "      <td>16.000000</td>\n",
       "      <td>100.000000</td>\n",
       "      <td>45.000000</td>\n",
       "      <td>0.000000</td>\n",
       "      <td>43.536599</td>\n",
       "      <td>-5.667200</td>\n",
       "    </tr>\n",
       "    <tr>\n",
       "      <th>75%</th>\n",
       "      <td>41.000000</td>\n",
       "      <td>2018.000000</td>\n",
       "      <td>9.000000</td>\n",
       "      <td>23.000000</td>\n",
       "      <td>100.000000</td>\n",
       "      <td>50.000000</td>\n",
       "      <td>0.000000</td>\n",
       "      <td>43.539138</td>\n",
       "      <td>-5.655689</td>\n",
       "    </tr>\n",
       "    <tr>\n",
       "      <th>max</th>\n",
       "      <td>9450.000000</td>\n",
       "      <td>2018.000000</td>\n",
       "      <td>12.000000</td>\n",
       "      <td>31.000000</td>\n",
       "      <td>3000.000000</td>\n",
       "      <td>500.000000</td>\n",
       "      <td>6.000000</td>\n",
       "      <td>43.554418</td>\n",
       "      <td>-5.594062</td>\n",
       "    </tr>\n",
       "  </tbody>\n",
       "</table>\n",
       "</div>"
      ],
      "text/plain": [
       "              NUMERO           year          month            day  \\\n",
       "count  155614.000000  250171.000000  250171.000000  250171.000000   \n",
       "mean       86.590262    2016.612621       6.644979      15.749164   \n",
       "std       470.248476       1.077357       3.281613       8.769704   \n",
       "min         1.000000    2015.000000       1.000000       1.000000   \n",
       "25%         9.000000    2016.000000       4.000000       8.000000   \n",
       "50%        15.000000    2017.000000       7.000000      16.000000   \n",
       "75%        41.000000    2018.000000       9.000000      23.000000   \n",
       "max      9450.000000    2018.000000      12.000000      31.000000   \n",
       "\n",
       "             IMPORTE      DESCUENTO         PUNTOS        LATITUD  \\\n",
       "count  250171.000000  250171.000000  250171.000000  137880.000000   \n",
       "mean      125.005336      41.946169       0.273953      43.532872   \n",
       "std        96.068682      39.687286       1.007895       0.007841   \n",
       "min        80.000000       0.000000       0.000000      43.485325   \n",
       "25%        90.000000       0.000000       0.000000      43.524586   \n",
       "50%       100.000000      45.000000       0.000000      43.536599   \n",
       "75%       100.000000      50.000000       0.000000      43.539138   \n",
       "max      3000.000000     500.000000       6.000000      43.554418   \n",
       "\n",
       "            LONGITUD  \n",
       "count  137880.000000  \n",
       "mean       -5.669181  \n",
       "std         0.014772  \n",
       "min        -5.716753  \n",
       "25%        -5.682149  \n",
       "50%        -5.667200  \n",
       "75%        -5.655689  \n",
       "max        -5.594062  "
      ]
     },
     "execution_count": 44,
     "metadata": {},
     "output_type": "execute_result"
    }
   ],
   "source": [
    "multas.describe()"
   ]
  },
  {
   "cell_type": "code",
   "execution_count": 45,
   "metadata": {},
   "outputs": [
    {
     "data": {
      "text/html": [
       "<div>\n",
       "<style scoped>\n",
       "    .dataframe tbody tr th:only-of-type {\n",
       "        vertical-align: middle;\n",
       "    }\n",
       "\n",
       "    .dataframe tbody tr th {\n",
       "        vertical-align: top;\n",
       "    }\n",
       "\n",
       "    .dataframe thead th {\n",
       "        text-align: right;\n",
       "    }\n",
       "</style>\n",
       "<table border=\"1\" class=\"dataframe\">\n",
       "  <thead>\n",
       "    <tr style=\"text-align: right;\">\n",
       "      <th></th>\n",
       "      <th>TIPO</th>\n",
       "    </tr>\n",
       "    <tr>\n",
       "      <th>IMPORTE</th>\n",
       "      <th></th>\n",
       "    </tr>\n",
       "  </thead>\n",
       "  <tbody>\n",
       "    <tr>\n",
       "      <th>80</th>\n",
       "      <td>3</td>\n",
       "    </tr>\n",
       "    <tr>\n",
       "      <th>90</th>\n",
       "      <td>85893</td>\n",
       "    </tr>\n",
       "    <tr>\n",
       "      <th>100</th>\n",
       "      <td>118899</td>\n",
       "    </tr>\n",
       "    <tr>\n",
       "      <th>200</th>\n",
       "      <td>36558</td>\n",
       "    </tr>\n",
       "    <tr>\n",
       "      <th>300</th>\n",
       "      <td>4665</td>\n",
       "    </tr>\n",
       "    <tr>\n",
       "      <th>400</th>\n",
       "      <td>715</td>\n",
       "    </tr>\n",
       "    <tr>\n",
       "      <th>500</th>\n",
       "      <td>1589</td>\n",
       "    </tr>\n",
       "    <tr>\n",
       "      <th>600</th>\n",
       "      <td>46</td>\n",
       "    </tr>\n",
       "    <tr>\n",
       "      <th>1000</th>\n",
       "      <td>1788</td>\n",
       "    </tr>\n",
       "    <tr>\n",
       "      <th>3000</th>\n",
       "      <td>15</td>\n",
       "    </tr>\n",
       "  </tbody>\n",
       "</table>\n",
       "</div>"
      ],
      "text/plain": [
       "           TIPO\n",
       "IMPORTE        \n",
       "80            3\n",
       "90        85893\n",
       "100      118899\n",
       "200       36558\n",
       "300        4665\n",
       "400         715\n",
       "500        1589\n",
       "600          46\n",
       "1000       1788\n",
       "3000         15"
      ]
     },
     "execution_count": 45,
     "metadata": {},
     "output_type": "execute_result"
    }
   ],
   "source": [
    "tabla_importes = multas.groupby('IMPORTE').count()[['TIPO']]\n",
    "tabla_importes"
   ]
  },
  {
   "cell_type": "code",
   "execution_count": 46,
   "metadata": {},
   "outputs": [
    {
     "name": "stdout",
     "output_type": "stream",
     "text": [
      "<class 'pandas.core.frame.DataFrame'>\n",
      "Int64Index: 10 entries, 80 to 3000\n",
      "Data columns (total 1 columns):\n",
      "TIPO    10 non-null int64\n",
      "dtypes: int64(1)\n",
      "memory usage: 160.0 bytes\n"
     ]
    }
   ],
   "source": [
    "tabla_importes = pd.DataFrame(tabla_importes)\n",
    "tabla_importes.info()"
   ]
  }
 ],
 "metadata": {
  "kernelspec": {
   "display_name": "Python 3",
   "language": "python",
   "name": "python3"
  },
  "language_info": {
   "codemirror_mode": {
    "name": "ipython",
    "version": 3
   },
   "file_extension": ".py",
   "mimetype": "text/x-python",
   "name": "python",
   "nbconvert_exporter": "python",
   "pygments_lexer": "ipython3",
   "version": "3.6.5"
  }
 },
 "nbformat": 4,
 "nbformat_minor": 2
}
