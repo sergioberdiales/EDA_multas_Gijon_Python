{
 "cells": [
  {
   "cell_type": "code",
   "execution_count": 1,
   "metadata": {},
   "outputs": [],
   "source": [
    "import pandas as pd\n",
    "import matplotlib.pyplot as plt\n",
    "import matplotlib\n",
    "\n",
    "matplotlib.style.use('ggplot')\n",
    "%matplotlib inline"
   ]
  },
  {
   "cell_type": "markdown",
   "metadata": {},
   "source": [
    "Entramos en el portal de trasparencia del Ayuntamiento de Gijón. Ponemos \"multas\" en el buscador y nos aparecerán 4 archivos disponibles https://transparencia.gijon.es/risp_datasetsb"
   ]
  },
  {
   "cell_type": "markdown",
   "metadata": {},
   "source": [
    "![](imgs/portal_trasparencia_ayto_Gijon_multas.png)"
   ]
  },
  {
   "cell_type": "code",
   "execution_count": 6,
   "metadata": {
    "scrolled": true
   },
   "outputs": [
    {
     "ename": "UnicodeDecodeError",
     "evalue": "'utf-8' codec can't decode byte 0xd1 in position 1: invalid continuation byte",
     "output_type": "error",
     "traceback": [
      "\u001b[0;31m---------------------------------------------------------------------------\u001b[0m",
      "\u001b[0;31mUnicodeDecodeError\u001b[0m                        Traceback (most recent call last)",
      "\u001b[0;32m<ipython-input-6-a7c0a074662c>\u001b[0m in \u001b[0;36m<module>\u001b[0;34m()\u001b[0m\n\u001b[0;32m----> 1\u001b[0;31m \u001b[0mmultas\u001b[0m \u001b[0;34m=\u001b[0m \u001b[0mpd\u001b[0m\u001b[0;34m.\u001b[0m\u001b[0mread_csv\u001b[0m\u001b[0;34m(\u001b[0m\u001b[0;34m\"data/original_data/658.csv\"\u001b[0m\u001b[0;34m)\u001b[0m\u001b[0;34m\u001b[0m\u001b[0m\n\u001b[0m",
      "\u001b[0;32m~/anaconda3/lib/python3.6/site-packages/pandas/io/parsers.py\u001b[0m in \u001b[0;36mparser_f\u001b[0;34m(filepath_or_buffer, sep, delimiter, header, names, index_col, usecols, squeeze, prefix, mangle_dupe_cols, dtype, engine, converters, true_values, false_values, skipinitialspace, skiprows, nrows, na_values, keep_default_na, na_filter, verbose, skip_blank_lines, parse_dates, infer_datetime_format, keep_date_col, date_parser, dayfirst, iterator, chunksize, compression, thousands, decimal, lineterminator, quotechar, quoting, escapechar, comment, encoding, dialect, tupleize_cols, error_bad_lines, warn_bad_lines, skipfooter, doublequote, delim_whitespace, low_memory, memory_map, float_precision)\u001b[0m\n\u001b[1;32m    676\u001b[0m                     skip_blank_lines=skip_blank_lines)\n\u001b[1;32m    677\u001b[0m \u001b[0;34m\u001b[0m\u001b[0m\n\u001b[0;32m--> 678\u001b[0;31m         \u001b[0;32mreturn\u001b[0m \u001b[0m_read\u001b[0m\u001b[0;34m(\u001b[0m\u001b[0mfilepath_or_buffer\u001b[0m\u001b[0;34m,\u001b[0m \u001b[0mkwds\u001b[0m\u001b[0;34m)\u001b[0m\u001b[0;34m\u001b[0m\u001b[0m\n\u001b[0m\u001b[1;32m    679\u001b[0m \u001b[0;34m\u001b[0m\u001b[0m\n\u001b[1;32m    680\u001b[0m     \u001b[0mparser_f\u001b[0m\u001b[0;34m.\u001b[0m\u001b[0m__name__\u001b[0m \u001b[0;34m=\u001b[0m \u001b[0mname\u001b[0m\u001b[0;34m\u001b[0m\u001b[0m\n",
      "\u001b[0;32m~/anaconda3/lib/python3.6/site-packages/pandas/io/parsers.py\u001b[0m in \u001b[0;36m_read\u001b[0;34m(filepath_or_buffer, kwds)\u001b[0m\n\u001b[1;32m    438\u001b[0m \u001b[0;34m\u001b[0m\u001b[0m\n\u001b[1;32m    439\u001b[0m     \u001b[0;31m# Create the parser.\u001b[0m\u001b[0;34m\u001b[0m\u001b[0;34m\u001b[0m\u001b[0m\n\u001b[0;32m--> 440\u001b[0;31m     \u001b[0mparser\u001b[0m \u001b[0;34m=\u001b[0m \u001b[0mTextFileReader\u001b[0m\u001b[0;34m(\u001b[0m\u001b[0mfilepath_or_buffer\u001b[0m\u001b[0;34m,\u001b[0m \u001b[0;34m**\u001b[0m\u001b[0mkwds\u001b[0m\u001b[0;34m)\u001b[0m\u001b[0;34m\u001b[0m\u001b[0m\n\u001b[0m\u001b[1;32m    441\u001b[0m \u001b[0;34m\u001b[0m\u001b[0m\n\u001b[1;32m    442\u001b[0m     \u001b[0;32mif\u001b[0m \u001b[0mchunksize\u001b[0m \u001b[0;32mor\u001b[0m \u001b[0miterator\u001b[0m\u001b[0;34m:\u001b[0m\u001b[0;34m\u001b[0m\u001b[0m\n",
      "\u001b[0;32m~/anaconda3/lib/python3.6/site-packages/pandas/io/parsers.py\u001b[0m in \u001b[0;36m__init__\u001b[0;34m(self, f, engine, **kwds)\u001b[0m\n\u001b[1;32m    785\u001b[0m             \u001b[0mself\u001b[0m\u001b[0;34m.\u001b[0m\u001b[0moptions\u001b[0m\u001b[0;34m[\u001b[0m\u001b[0;34m'has_index_names'\u001b[0m\u001b[0;34m]\u001b[0m \u001b[0;34m=\u001b[0m \u001b[0mkwds\u001b[0m\u001b[0;34m[\u001b[0m\u001b[0;34m'has_index_names'\u001b[0m\u001b[0;34m]\u001b[0m\u001b[0;34m\u001b[0m\u001b[0m\n\u001b[1;32m    786\u001b[0m \u001b[0;34m\u001b[0m\u001b[0m\n\u001b[0;32m--> 787\u001b[0;31m         \u001b[0mself\u001b[0m\u001b[0;34m.\u001b[0m\u001b[0m_make_engine\u001b[0m\u001b[0;34m(\u001b[0m\u001b[0mself\u001b[0m\u001b[0;34m.\u001b[0m\u001b[0mengine\u001b[0m\u001b[0;34m)\u001b[0m\u001b[0;34m\u001b[0m\u001b[0m\n\u001b[0m\u001b[1;32m    788\u001b[0m \u001b[0;34m\u001b[0m\u001b[0m\n\u001b[1;32m    789\u001b[0m     \u001b[0;32mdef\u001b[0m \u001b[0mclose\u001b[0m\u001b[0;34m(\u001b[0m\u001b[0mself\u001b[0m\u001b[0;34m)\u001b[0m\u001b[0;34m:\u001b[0m\u001b[0;34m\u001b[0m\u001b[0m\n",
      "\u001b[0;32m~/anaconda3/lib/python3.6/site-packages/pandas/io/parsers.py\u001b[0m in \u001b[0;36m_make_engine\u001b[0;34m(self, engine)\u001b[0m\n\u001b[1;32m   1012\u001b[0m     \u001b[0;32mdef\u001b[0m \u001b[0m_make_engine\u001b[0m\u001b[0;34m(\u001b[0m\u001b[0mself\u001b[0m\u001b[0;34m,\u001b[0m \u001b[0mengine\u001b[0m\u001b[0;34m=\u001b[0m\u001b[0;34m'c'\u001b[0m\u001b[0;34m)\u001b[0m\u001b[0;34m:\u001b[0m\u001b[0;34m\u001b[0m\u001b[0m\n\u001b[1;32m   1013\u001b[0m         \u001b[0;32mif\u001b[0m \u001b[0mengine\u001b[0m \u001b[0;34m==\u001b[0m \u001b[0;34m'c'\u001b[0m\u001b[0;34m:\u001b[0m\u001b[0;34m\u001b[0m\u001b[0m\n\u001b[0;32m-> 1014\u001b[0;31m             \u001b[0mself\u001b[0m\u001b[0;34m.\u001b[0m\u001b[0m_engine\u001b[0m \u001b[0;34m=\u001b[0m \u001b[0mCParserWrapper\u001b[0m\u001b[0;34m(\u001b[0m\u001b[0mself\u001b[0m\u001b[0;34m.\u001b[0m\u001b[0mf\u001b[0m\u001b[0;34m,\u001b[0m \u001b[0;34m**\u001b[0m\u001b[0mself\u001b[0m\u001b[0;34m.\u001b[0m\u001b[0moptions\u001b[0m\u001b[0;34m)\u001b[0m\u001b[0;34m\u001b[0m\u001b[0m\n\u001b[0m\u001b[1;32m   1015\u001b[0m         \u001b[0;32melse\u001b[0m\u001b[0;34m:\u001b[0m\u001b[0;34m\u001b[0m\u001b[0m\n\u001b[1;32m   1016\u001b[0m             \u001b[0;32mif\u001b[0m \u001b[0mengine\u001b[0m \u001b[0;34m==\u001b[0m \u001b[0;34m'python'\u001b[0m\u001b[0;34m:\u001b[0m\u001b[0;34m\u001b[0m\u001b[0m\n",
      "\u001b[0;32m~/anaconda3/lib/python3.6/site-packages/pandas/io/parsers.py\u001b[0m in \u001b[0;36m__init__\u001b[0;34m(self, src, **kwds)\u001b[0m\n\u001b[1;32m   1706\u001b[0m         \u001b[0mkwds\u001b[0m\u001b[0;34m[\u001b[0m\u001b[0;34m'usecols'\u001b[0m\u001b[0;34m]\u001b[0m \u001b[0;34m=\u001b[0m \u001b[0mself\u001b[0m\u001b[0;34m.\u001b[0m\u001b[0musecols\u001b[0m\u001b[0;34m\u001b[0m\u001b[0m\n\u001b[1;32m   1707\u001b[0m \u001b[0;34m\u001b[0m\u001b[0m\n\u001b[0;32m-> 1708\u001b[0;31m         \u001b[0mself\u001b[0m\u001b[0;34m.\u001b[0m\u001b[0m_reader\u001b[0m \u001b[0;34m=\u001b[0m \u001b[0mparsers\u001b[0m\u001b[0;34m.\u001b[0m\u001b[0mTextReader\u001b[0m\u001b[0;34m(\u001b[0m\u001b[0msrc\u001b[0m\u001b[0;34m,\u001b[0m \u001b[0;34m**\u001b[0m\u001b[0mkwds\u001b[0m\u001b[0;34m)\u001b[0m\u001b[0;34m\u001b[0m\u001b[0m\n\u001b[0m\u001b[1;32m   1709\u001b[0m \u001b[0;34m\u001b[0m\u001b[0m\n\u001b[1;32m   1710\u001b[0m         \u001b[0mpassed_names\u001b[0m \u001b[0;34m=\u001b[0m \u001b[0mself\u001b[0m\u001b[0;34m.\u001b[0m\u001b[0mnames\u001b[0m \u001b[0;32mis\u001b[0m \u001b[0;32mNone\u001b[0m\u001b[0;34m\u001b[0m\u001b[0m\n",
      "\u001b[0;32mpandas/_libs/parsers.pyx\u001b[0m in \u001b[0;36mpandas._libs.parsers.TextReader.__cinit__\u001b[0;34m()\u001b[0m\n",
      "\u001b[0;32mpandas/_libs/parsers.pyx\u001b[0m in \u001b[0;36mpandas._libs.parsers.TextReader._get_header\u001b[0;34m()\u001b[0m\n",
      "\u001b[0;31mUnicodeDecodeError\u001b[0m: 'utf-8' codec can't decode byte 0xd1 in position 1: invalid continuation byte"
     ]
    }
   ],
   "source": [
    "multas = pd.read_csv(\"data/original_data/658.csv\")"
   ]
  },
  {
   "cell_type": "markdown",
   "metadata": {},
   "source": [
    "Los archivos \"658.csv\", \"659.csv\" y \"660.csv\" dan error de codificación: \"UnicodeDecodeError: 'utf-8' codec can't decode byte 0xd1 in position 1: invalid continuation byte\"\n",
    "Es debido a que no están formateados en \"UTF-8\", que es la codificación que por defecto utiliza la función read_csv."
   ]
  },
  {
   "cell_type": "markdown",
   "metadata": {},
   "source": [
    "Utilizamos el comando \"!file\" el sistema para obtener en qué formato esta codificado el csv."
   ]
  },
  {
   "cell_type": "code",
   "execution_count": 7,
   "metadata": {
    "scrolled": true
   },
   "outputs": [
    {
     "name": "stdout",
     "output_type": "stream",
     "text": [
      "data/original_data/658.csv: ISO-8859 text, with very long lines, with CRLF line terminators\r\n"
     ]
    }
   ],
   "source": [
    "!file \"data/original_data/658.csv\""
   ]
  },
  {
   "cell_type": "markdown",
   "metadata": {},
   "source": [
    "Y volvemos a intentar importar el archivo (no funciona con \"ISO-8859\"; hay que especificar que es \"ISO-8859-1\")"
   ]
  },
  {
   "cell_type": "code",
   "execution_count": 9,
   "metadata": {},
   "outputs": [],
   "source": [
    "multas = pd.read_csv(\"data/original_data/658.csv\", encoding=\"ISO-8859-1\")"
   ]
  },
  {
   "cell_type": "markdown",
   "metadata": {},
   "source": [
    "Si utilizáis el comando \"file\" en la consola de bash o en el notebook así \"!file\" el sistema os devolverá la siguiente información: \"xxx.csv: ISO-8859 text, with very long lines, with CRLF line terminators\"."
   ]
  },
  {
   "cell_type": "code",
   "execution_count": 58,
   "metadata": {},
   "outputs": [],
   "source": []
  },
  {
   "cell_type": "code",
   "execution_count": 18,
   "metadata": {
    "scrolled": true
   },
   "outputs": [
    {
     "data": {
      "text/html": [
       "<div>\n",
       "<style scoped>\n",
       "    .dataframe tbody tr th:only-of-type {\n",
       "        vertical-align: middle;\n",
       "    }\n",
       "\n",
       "    .dataframe tbody tr th {\n",
       "        vertical-align: top;\n",
       "    }\n",
       "\n",
       "    .dataframe thead th {\n",
       "        text-align: right;\n",
       "    }\n",
       "</style>\n",
       "<table border=\"1\" class=\"dataframe\">\n",
       "  <thead>\n",
       "    <tr style=\"text-align: right;\">\n",
       "      <th></th>\n",
       "      <th>TIPO</th>\n",
       "      <th>CALIFICACION</th>\n",
       "      <th>LUGAR</th>\n",
       "      <th>NUMERO</th>\n",
       "      <th>AÑO</th>\n",
       "      <th>MES</th>\n",
       "      <th>DIA</th>\n",
       "      <th>HORA</th>\n",
       "      <th>IMPORTE</th>\n",
       "      <th>DESCUENTO</th>\n",
       "      <th>PUNTOS</th>\n",
       "      <th>INFRACCION</th>\n",
       "      <th>VELOCIDAD</th>\n",
       "      <th>VELOCIDAD_LIMITE</th>\n",
       "      <th>LATITUD</th>\n",
       "      <th>LONGITUD</th>\n",
       "    </tr>\n",
       "  </thead>\n",
       "  <tbody>\n",
       "    <tr>\n",
       "      <th>0</th>\n",
       "      <td>Cimadevilla</td>\n",
       "      <td>Leve</td>\n",
       "      <td>BARRIO CIMADEVILLA GIJON</td>\n",
       "      <td>NaN</td>\n",
       "      <td>2017</td>\n",
       "      <td>1</td>\n",
       "      <td>1</td>\n",
       "      <td>12:35</td>\n",
       "      <td>90</td>\n",
       "      <td>0</td>\n",
       "      <td>0</td>\n",
       "      <td>PERMANECER EN EL CASCO ANTIGUO DE CIMADEVILLA,...</td>\n",
       "      <td>NaN</td>\n",
       "      <td>NaN</td>\n",
       "      <td>NaN</td>\n",
       "      <td>NaN</td>\n",
       "    </tr>\n",
       "    <tr>\n",
       "      <th>1</th>\n",
       "      <td>Cimadevilla</td>\n",
       "      <td>Leve</td>\n",
       "      <td>BARRIO CIMADEVILLA GIJON</td>\n",
       "      <td>NaN</td>\n",
       "      <td>2017</td>\n",
       "      <td>1</td>\n",
       "      <td>2</td>\n",
       "      <td>23:14</td>\n",
       "      <td>90</td>\n",
       "      <td>45</td>\n",
       "      <td>0</td>\n",
       "      <td>PERMANECER EN EL CASCO ANTIGUO DE CIMADEVILLA,...</td>\n",
       "      <td>NaN</td>\n",
       "      <td>NaN</td>\n",
       "      <td>NaN</td>\n",
       "      <td>NaN</td>\n",
       "    </tr>\n",
       "    <tr>\n",
       "      <th>2</th>\n",
       "      <td>Cimadevilla</td>\n",
       "      <td>Leve</td>\n",
       "      <td>BARRIO CIMADEVILLA GIJON</td>\n",
       "      <td>NaN</td>\n",
       "      <td>2017</td>\n",
       "      <td>1</td>\n",
       "      <td>3</td>\n",
       "      <td>09:43</td>\n",
       "      <td>90</td>\n",
       "      <td>0</td>\n",
       "      <td>0</td>\n",
       "      <td>PERMANECER EN EL CASCO ANTIGUO DE CIMADEVILLA,...</td>\n",
       "      <td>NaN</td>\n",
       "      <td>NaN</td>\n",
       "      <td>NaN</td>\n",
       "      <td>NaN</td>\n",
       "    </tr>\n",
       "    <tr>\n",
       "      <th>3</th>\n",
       "      <td>Cimadevilla</td>\n",
       "      <td>Leve</td>\n",
       "      <td>BARRIO CIMADEVILLA GIJON</td>\n",
       "      <td>NaN</td>\n",
       "      <td>2017</td>\n",
       "      <td>1</td>\n",
       "      <td>4</td>\n",
       "      <td>02:20</td>\n",
       "      <td>90</td>\n",
       "      <td>0</td>\n",
       "      <td>0</td>\n",
       "      <td>PERMANECER EN EL CASCO ANTIGUO DE CIMADEVILLA,...</td>\n",
       "      <td>NaN</td>\n",
       "      <td>NaN</td>\n",
       "      <td>NaN</td>\n",
       "      <td>NaN</td>\n",
       "    </tr>\n",
       "    <tr>\n",
       "      <th>4</th>\n",
       "      <td>Cimadevilla</td>\n",
       "      <td>Leve</td>\n",
       "      <td>BARRIO CIMADEVILLA GIJON</td>\n",
       "      <td>NaN</td>\n",
       "      <td>2017</td>\n",
       "      <td>1</td>\n",
       "      <td>4</td>\n",
       "      <td>02:28</td>\n",
       "      <td>90</td>\n",
       "      <td>0</td>\n",
       "      <td>0</td>\n",
       "      <td>PERMANECER EN EL CASCO ANTIGUO DE CIMADEVILLA,...</td>\n",
       "      <td>NaN</td>\n",
       "      <td>NaN</td>\n",
       "      <td>NaN</td>\n",
       "      <td>NaN</td>\n",
       "    </tr>\n",
       "  </tbody>\n",
       "</table>\n",
       "</div>"
      ],
      "text/plain": [
       "          TIPO CALIFICACION                     LUGAR  NUMERO   AÑO  MES  DIA  \\\n",
       "0  Cimadevilla         Leve  BARRIO CIMADEVILLA GIJON     NaN  2017    1    1   \n",
       "1  Cimadevilla         Leve  BARRIO CIMADEVILLA GIJON     NaN  2017    1    2   \n",
       "2  Cimadevilla         Leve  BARRIO CIMADEVILLA GIJON     NaN  2017    1    3   \n",
       "3  Cimadevilla         Leve  BARRIO CIMADEVILLA GIJON     NaN  2017    1    4   \n",
       "4  Cimadevilla         Leve  BARRIO CIMADEVILLA GIJON     NaN  2017    1    4   \n",
       "\n",
       "    HORA  IMPORTE  DESCUENTO  PUNTOS  \\\n",
       "0  12:35       90          0       0   \n",
       "1  23:14       90         45       0   \n",
       "2  09:43       90          0       0   \n",
       "3  02:20       90          0       0   \n",
       "4  02:28       90          0       0   \n",
       "\n",
       "                                          INFRACCION VELOCIDAD  \\\n",
       "0  PERMANECER EN EL CASCO ANTIGUO DE CIMADEVILLA,...       NaN   \n",
       "1  PERMANECER EN EL CASCO ANTIGUO DE CIMADEVILLA,...       NaN   \n",
       "2  PERMANECER EN EL CASCO ANTIGUO DE CIMADEVILLA,...       NaN   \n",
       "3  PERMANECER EN EL CASCO ANTIGUO DE CIMADEVILLA,...       NaN   \n",
       "4  PERMANECER EN EL CASCO ANTIGUO DE CIMADEVILLA,...       NaN   \n",
       "\n",
       "  VELOCIDAD_LIMITE  LATITUD  LONGITUD  \n",
       "0              NaN      NaN       NaN  \n",
       "1              NaN      NaN       NaN  \n",
       "2              NaN      NaN       NaN  \n",
       "3              NaN      NaN       NaN  \n",
       "4              NaN      NaN       NaN  "
      ]
     },
     "execution_count": 18,
     "metadata": {},
     "output_type": "execute_result"
    }
   ],
   "source": [
    "filesnames = (\"data/original_data/658.csv\", \"data/original_data/659.csv\",\"data/original_data/660.csv\")\n",
    "\n",
    "dfs = list()\n",
    "for filename in filesnames:    \n",
    "    multas_2015_2017 = pd.read_csv(filename, encoding=\"ISO-8859-1\")    \n",
    "    dfs.append(df)\n",
    "frame = pd.concat(dfs, axis=0, ignore_index=True)\n",
    "multas_2015_2017.head()"
   ]
  },
  {
   "cell_type": "code",
   "execution_count": 19,
   "metadata": {},
   "outputs": [],
   "source": [
    "multas_2018 = pd.read_csv(\"data/original_data/661.csv\")"
   ]
  },
  {
   "cell_type": "code",
   "execution_count": 20,
   "metadata": {},
   "outputs": [],
   "source": [
    "multas = pd.concat([multas_2015_2017, multas_2018], axis=0)"
   ]
  },
  {
   "cell_type": "code",
   "execution_count": 21,
   "metadata": {},
   "outputs": [
    {
     "data": {
      "text/html": [
       "<div>\n",
       "<style scoped>\n",
       "    .dataframe tbody tr th:only-of-type {\n",
       "        vertical-align: middle;\n",
       "    }\n",
       "\n",
       "    .dataframe tbody tr th {\n",
       "        vertical-align: top;\n",
       "    }\n",
       "\n",
       "    .dataframe thead th {\n",
       "        text-align: right;\n",
       "    }\n",
       "</style>\n",
       "<table border=\"1\" class=\"dataframe\">\n",
       "  <thead>\n",
       "    <tr style=\"text-align: right;\">\n",
       "      <th></th>\n",
       "      <th>TIPO</th>\n",
       "      <th>CALIFICACION</th>\n",
       "      <th>LUGAR</th>\n",
       "      <th>NUMERO</th>\n",
       "      <th>AÑO</th>\n",
       "      <th>MES</th>\n",
       "      <th>DIA</th>\n",
       "      <th>HORA</th>\n",
       "      <th>IMPORTE</th>\n",
       "      <th>DESCUENTO</th>\n",
       "      <th>PUNTOS</th>\n",
       "      <th>INFRACCION</th>\n",
       "      <th>VELOCIDAD</th>\n",
       "      <th>VELOCIDAD_LIMITE</th>\n",
       "      <th>LATITUD</th>\n",
       "      <th>LONGITUD</th>\n",
       "    </tr>\n",
       "  </thead>\n",
       "  <tbody>\n",
       "    <tr>\n",
       "      <th>0</th>\n",
       "      <td>Cimadevilla</td>\n",
       "      <td>Leve</td>\n",
       "      <td>BARRIO CIMADEVILLA GIJON</td>\n",
       "      <td>NaN</td>\n",
       "      <td>2017</td>\n",
       "      <td>1</td>\n",
       "      <td>1</td>\n",
       "      <td>12:35</td>\n",
       "      <td>90</td>\n",
       "      <td>0</td>\n",
       "      <td>0</td>\n",
       "      <td>PERMANECER EN EL CASCO ANTIGUO DE CIMADEVILLA,...</td>\n",
       "      <td>NaN</td>\n",
       "      <td>NaN</td>\n",
       "      <td>NaN</td>\n",
       "      <td>NaN</td>\n",
       "    </tr>\n",
       "    <tr>\n",
       "      <th>1</th>\n",
       "      <td>Cimadevilla</td>\n",
       "      <td>Leve</td>\n",
       "      <td>BARRIO CIMADEVILLA GIJON</td>\n",
       "      <td>NaN</td>\n",
       "      <td>2017</td>\n",
       "      <td>1</td>\n",
       "      <td>2</td>\n",
       "      <td>23:14</td>\n",
       "      <td>90</td>\n",
       "      <td>45</td>\n",
       "      <td>0</td>\n",
       "      <td>PERMANECER EN EL CASCO ANTIGUO DE CIMADEVILLA,...</td>\n",
       "      <td>NaN</td>\n",
       "      <td>NaN</td>\n",
       "      <td>NaN</td>\n",
       "      <td>NaN</td>\n",
       "    </tr>\n",
       "    <tr>\n",
       "      <th>2</th>\n",
       "      <td>Cimadevilla</td>\n",
       "      <td>Leve</td>\n",
       "      <td>BARRIO CIMADEVILLA GIJON</td>\n",
       "      <td>NaN</td>\n",
       "      <td>2017</td>\n",
       "      <td>1</td>\n",
       "      <td>3</td>\n",
       "      <td>09:43</td>\n",
       "      <td>90</td>\n",
       "      <td>0</td>\n",
       "      <td>0</td>\n",
       "      <td>PERMANECER EN EL CASCO ANTIGUO DE CIMADEVILLA,...</td>\n",
       "      <td>NaN</td>\n",
       "      <td>NaN</td>\n",
       "      <td>NaN</td>\n",
       "      <td>NaN</td>\n",
       "    </tr>\n",
       "    <tr>\n",
       "      <th>3</th>\n",
       "      <td>Cimadevilla</td>\n",
       "      <td>Leve</td>\n",
       "      <td>BARRIO CIMADEVILLA GIJON</td>\n",
       "      <td>NaN</td>\n",
       "      <td>2017</td>\n",
       "      <td>1</td>\n",
       "      <td>4</td>\n",
       "      <td>02:20</td>\n",
       "      <td>90</td>\n",
       "      <td>0</td>\n",
       "      <td>0</td>\n",
       "      <td>PERMANECER EN EL CASCO ANTIGUO DE CIMADEVILLA,...</td>\n",
       "      <td>NaN</td>\n",
       "      <td>NaN</td>\n",
       "      <td>NaN</td>\n",
       "      <td>NaN</td>\n",
       "    </tr>\n",
       "    <tr>\n",
       "      <th>4</th>\n",
       "      <td>Cimadevilla</td>\n",
       "      <td>Leve</td>\n",
       "      <td>BARRIO CIMADEVILLA GIJON</td>\n",
       "      <td>NaN</td>\n",
       "      <td>2017</td>\n",
       "      <td>1</td>\n",
       "      <td>4</td>\n",
       "      <td>02:28</td>\n",
       "      <td>90</td>\n",
       "      <td>0</td>\n",
       "      <td>0</td>\n",
       "      <td>PERMANECER EN EL CASCO ANTIGUO DE CIMADEVILLA,...</td>\n",
       "      <td>NaN</td>\n",
       "      <td>NaN</td>\n",
       "      <td>NaN</td>\n",
       "      <td>NaN</td>\n",
       "    </tr>\n",
       "  </tbody>\n",
       "</table>\n",
       "</div>"
      ],
      "text/plain": [
       "          TIPO CALIFICACION                     LUGAR  NUMERO   AÑO  MES  DIA  \\\n",
       "0  Cimadevilla         Leve  BARRIO CIMADEVILLA GIJON     NaN  2017    1    1   \n",
       "1  Cimadevilla         Leve  BARRIO CIMADEVILLA GIJON     NaN  2017    1    2   \n",
       "2  Cimadevilla         Leve  BARRIO CIMADEVILLA GIJON     NaN  2017    1    3   \n",
       "3  Cimadevilla         Leve  BARRIO CIMADEVILLA GIJON     NaN  2017    1    4   \n",
       "4  Cimadevilla         Leve  BARRIO CIMADEVILLA GIJON     NaN  2017    1    4   \n",
       "\n",
       "    HORA  IMPORTE  DESCUENTO  PUNTOS  \\\n",
       "0  12:35       90          0       0   \n",
       "1  23:14       90         45       0   \n",
       "2  09:43       90          0       0   \n",
       "3  02:20       90          0       0   \n",
       "4  02:28       90          0       0   \n",
       "\n",
       "                                          INFRACCION VELOCIDAD  \\\n",
       "0  PERMANECER EN EL CASCO ANTIGUO DE CIMADEVILLA,...       NaN   \n",
       "1  PERMANECER EN EL CASCO ANTIGUO DE CIMADEVILLA,...       NaN   \n",
       "2  PERMANECER EN EL CASCO ANTIGUO DE CIMADEVILLA,...       NaN   \n",
       "3  PERMANECER EN EL CASCO ANTIGUO DE CIMADEVILLA,...       NaN   \n",
       "4  PERMANECER EN EL CASCO ANTIGUO DE CIMADEVILLA,...       NaN   \n",
       "\n",
       "  VELOCIDAD_LIMITE  LATITUD  LONGITUD  \n",
       "0              NaN      NaN       NaN  \n",
       "1              NaN      NaN       NaN  \n",
       "2              NaN      NaN       NaN  \n",
       "3              NaN      NaN       NaN  \n",
       "4              NaN      NaN       NaN  "
      ]
     },
     "execution_count": 21,
     "metadata": {},
     "output_type": "execute_result"
    }
   ],
   "source": [
    "multas.head()"
   ]
  },
  {
   "cell_type": "code",
   "execution_count": 22,
   "metadata": {},
   "outputs": [
    {
     "data": {
      "text/plain": [
       "Index(['TIPO', 'CALIFICACION', 'LUGAR', 'NUMERO', 'AÑO', 'MES', 'DIA', 'HORA',\n",
       "       'IMPORTE', 'DESCUENTO', 'PUNTOS', 'INFRACCION', 'VELOCIDAD',\n",
       "       'VELOCIDAD_LIMITE', 'LATITUD', 'LONGITUD'],\n",
       "      dtype='object')"
      ]
     },
     "execution_count": 22,
     "metadata": {},
     "output_type": "execute_result"
    }
   ],
   "source": [
    "multas.columns"
   ]
  },
  {
   "cell_type": "markdown",
   "metadata": {},
   "source": [
    "Si observamos los formatos de las variables vemos, por ejemplo, tenemos el mes, el día y la hora separados \n",
    "en distintas variables. "
   ]
  },
  {
   "cell_type": "code",
   "execution_count": 62,
   "metadata": {},
   "outputs": [
    {
     "name": "stdout",
     "output_type": "stream",
     "text": [
      "<class 'pandas.core.frame.DataFrame'>\n",
      "RangeIndex: 66959 entries, 0 to 66958\n",
      "Data columns (total 16 columns):\n",
      "TIPO                66959 non-null object\n",
      "CALIFICACION        66959 non-null object\n",
      "LUGAR               66959 non-null object\n",
      "NUMERO              43292 non-null float64\n",
      "AÑO                 66959 non-null int64\n",
      "MES                 66959 non-null int64\n",
      "DIA                 66959 non-null int64\n",
      "HORA                66959 non-null object\n",
      "IMPORTE             66959 non-null int64\n",
      "DESCUENTO           66959 non-null int64\n",
      "PUNTOS              66959 non-null int64\n",
      "INFRACCION          66959 non-null object\n",
      "VELOCIDAD           36646 non-null object\n",
      "VELOCIDAD_LIMITE    36646 non-null object\n",
      "LATITUD             37759 non-null float64\n",
      "LONGITUD            37759 non-null float64\n",
      "dtypes: float64(3), int64(6), object(7)\n",
      "memory usage: 8.2+ MB\n"
     ]
    }
   ],
   "source": [
    "multas.info()"
   ]
  },
  {
   "cell_type": "markdown",
   "metadata": {},
   "source": []
  },
  {
   "cell_type": "markdown",
   "metadata": {},
   "source": [
    "Antes cambiamos los nombres de las variables para que la función que vamos a utilizar las reconozca"
   ]
  },
  {
   "cell_type": "code",
   "execution_count": 63,
   "metadata": {},
   "outputs": [],
   "source": [
    "multas = multas.rename(columns={'AÑO':'year', 'MES':'month','DIA':'day'})"
   ]
  },
  {
   "cell_type": "code",
   "execution_count": 64,
   "metadata": {},
   "outputs": [
    {
     "data": {
      "text/plain": [
       "Index(['TIPO', 'CALIFICACION', 'LUGAR', 'NUMERO', 'year', 'month', 'day',\n",
       "       'HORA', 'IMPORTE', 'DESCUENTO', 'PUNTOS', 'INFRACCION', 'VELOCIDAD',\n",
       "       'VELOCIDAD_LIMITE', 'LATITUD', 'LONGITUD'],\n",
       "      dtype='object')"
      ]
     },
     "execution_count": 64,
     "metadata": {},
     "output_type": "execute_result"
    }
   ],
   "source": [
    "multas.columns"
   ]
  },
  {
   "cell_type": "code",
   "execution_count": null,
   "metadata": {},
   "outputs": [],
   "source": [
    "multas = multas.rename(columns={'AÑO':'year', 'MES':'month','DIA':'day'})"
   ]
  },
  {
   "cell_type": "code",
   "execution_count": 79,
   "metadata": {},
   "outputs": [],
   "source": [
    "multas[['hora', 'minute']] = multas.HORA.str.split(pat = \":\", n = 1, expand = True)"
   ]
  },
  {
   "cell_type": "code",
   "execution_count": 80,
   "metadata": {
    "scrolled": true
   },
   "outputs": [
    {
     "data": {
      "text/html": [
       "<div>\n",
       "<style scoped>\n",
       "    .dataframe tbody tr th:only-of-type {\n",
       "        vertical-align: middle;\n",
       "    }\n",
       "\n",
       "    .dataframe tbody tr th {\n",
       "        vertical-align: top;\n",
       "    }\n",
       "\n",
       "    .dataframe thead th {\n",
       "        text-align: right;\n",
       "    }\n",
       "</style>\n",
       "<table border=\"1\" class=\"dataframe\">\n",
       "  <thead>\n",
       "    <tr style=\"text-align: right;\">\n",
       "      <th></th>\n",
       "      <th>TIPO</th>\n",
       "      <th>CALIFICACION</th>\n",
       "      <th>LUGAR</th>\n",
       "      <th>NUMERO</th>\n",
       "      <th>AÑO</th>\n",
       "      <th>MES</th>\n",
       "      <th>DIA</th>\n",
       "      <th>HORA</th>\n",
       "      <th>IMPORTE</th>\n",
       "      <th>DESCUENTO</th>\n",
       "      <th>PUNTOS</th>\n",
       "      <th>INFRACCION</th>\n",
       "      <th>VELOCIDAD</th>\n",
       "      <th>VELOCIDAD_LIMITE</th>\n",
       "      <th>LATITUD</th>\n",
       "      <th>LONGITUD</th>\n",
       "      <th>hora</th>\n",
       "      <th>minute</th>\n",
       "    </tr>\n",
       "  </thead>\n",
       "  <tbody>\n",
       "    <tr>\n",
       "      <th>0</th>\n",
       "      <td>Cimadevilla</td>\n",
       "      <td>Leve</td>\n",
       "      <td>BARRIO CIMADEVILLA GIJON</td>\n",
       "      <td>NaN</td>\n",
       "      <td>2018</td>\n",
       "      <td>1</td>\n",
       "      <td>1</td>\n",
       "      <td>00:05</td>\n",
       "      <td>90</td>\n",
       "      <td>0</td>\n",
       "      <td>0</td>\n",
       "      <td>PERMANECER EN EL CASCO ANTIGUO DE CIMADEVILLA,...</td>\n",
       "      <td>NaN</td>\n",
       "      <td>NaN</td>\n",
       "      <td>NaN</td>\n",
       "      <td>NaN</td>\n",
       "      <td>00</td>\n",
       "      <td>05</td>\n",
       "    </tr>\n",
       "    <tr>\n",
       "      <th>1</th>\n",
       "      <td>Cimadevilla</td>\n",
       "      <td>Leve</td>\n",
       "      <td>BARRIO CIMADEVILLA GIJON</td>\n",
       "      <td>NaN</td>\n",
       "      <td>2018</td>\n",
       "      <td>1</td>\n",
       "      <td>1</td>\n",
       "      <td>00:40</td>\n",
       "      <td>90</td>\n",
       "      <td>45</td>\n",
       "      <td>0</td>\n",
       "      <td>PERMANECER EN EL CASCO ANTIGUO DE CIMADEVILLA,...</td>\n",
       "      <td>NaN</td>\n",
       "      <td>NaN</td>\n",
       "      <td>NaN</td>\n",
       "      <td>NaN</td>\n",
       "      <td>00</td>\n",
       "      <td>40</td>\n",
       "    </tr>\n",
       "    <tr>\n",
       "      <th>2</th>\n",
       "      <td>Cimadevilla</td>\n",
       "      <td>Leve</td>\n",
       "      <td>BARRIO CIMADEVILLA GIJON</td>\n",
       "      <td>NaN</td>\n",
       "      <td>2018</td>\n",
       "      <td>1</td>\n",
       "      <td>1</td>\n",
       "      <td>01:28</td>\n",
       "      <td>90</td>\n",
       "      <td>45</td>\n",
       "      <td>0</td>\n",
       "      <td>PERMANECER EN EL CASCO ANTIGUO DE CIMADEVILLA,...</td>\n",
       "      <td>NaN</td>\n",
       "      <td>NaN</td>\n",
       "      <td>NaN</td>\n",
       "      <td>NaN</td>\n",
       "      <td>01</td>\n",
       "      <td>28</td>\n",
       "    </tr>\n",
       "    <tr>\n",
       "      <th>3</th>\n",
       "      <td>Cimadevilla</td>\n",
       "      <td>Leve</td>\n",
       "      <td>BARRIO CIMADEVILLA GIJON</td>\n",
       "      <td>NaN</td>\n",
       "      <td>2018</td>\n",
       "      <td>1</td>\n",
       "      <td>1</td>\n",
       "      <td>01:47</td>\n",
       "      <td>90</td>\n",
       "      <td>45</td>\n",
       "      <td>0</td>\n",
       "      <td>PERMANECER EN EL CASCO ANTIGUO DE CIMADEVILLA,...</td>\n",
       "      <td>NaN</td>\n",
       "      <td>NaN</td>\n",
       "      <td>NaN</td>\n",
       "      <td>NaN</td>\n",
       "      <td>01</td>\n",
       "      <td>47</td>\n",
       "    </tr>\n",
       "    <tr>\n",
       "      <th>4</th>\n",
       "      <td>Cimadevilla</td>\n",
       "      <td>Leve</td>\n",
       "      <td>BARRIO CIMADEVILLA GIJON</td>\n",
       "      <td>NaN</td>\n",
       "      <td>2018</td>\n",
       "      <td>1</td>\n",
       "      <td>1</td>\n",
       "      <td>02:23</td>\n",
       "      <td>90</td>\n",
       "      <td>0</td>\n",
       "      <td>0</td>\n",
       "      <td>PERMANECER EN EL CASCO ANTIGUO DE CIMADEVILLA,...</td>\n",
       "      <td>NaN</td>\n",
       "      <td>NaN</td>\n",
       "      <td>NaN</td>\n",
       "      <td>NaN</td>\n",
       "      <td>02</td>\n",
       "      <td>23</td>\n",
       "    </tr>\n",
       "  </tbody>\n",
       "</table>\n",
       "</div>"
      ],
      "text/plain": [
       "          TIPO CALIFICACION                     LUGAR  NUMERO   AÑO  MES  DIA  \\\n",
       "0  Cimadevilla         Leve  BARRIO CIMADEVILLA GIJON     NaN  2018    1    1   \n",
       "1  Cimadevilla         Leve  BARRIO CIMADEVILLA GIJON     NaN  2018    1    1   \n",
       "2  Cimadevilla         Leve  BARRIO CIMADEVILLA GIJON     NaN  2018    1    1   \n",
       "3  Cimadevilla         Leve  BARRIO CIMADEVILLA GIJON     NaN  2018    1    1   \n",
       "4  Cimadevilla         Leve  BARRIO CIMADEVILLA GIJON     NaN  2018    1    1   \n",
       "\n",
       "    HORA  IMPORTE  DESCUENTO  PUNTOS  \\\n",
       "0  00:05       90          0       0   \n",
       "1  00:40       90         45       0   \n",
       "2  01:28       90         45       0   \n",
       "3  01:47       90         45       0   \n",
       "4  02:23       90          0       0   \n",
       "\n",
       "                                          INFRACCION VELOCIDAD  \\\n",
       "0  PERMANECER EN EL CASCO ANTIGUO DE CIMADEVILLA,...       NaN   \n",
       "1  PERMANECER EN EL CASCO ANTIGUO DE CIMADEVILLA,...       NaN   \n",
       "2  PERMANECER EN EL CASCO ANTIGUO DE CIMADEVILLA,...       NaN   \n",
       "3  PERMANECER EN EL CASCO ANTIGUO DE CIMADEVILLA,...       NaN   \n",
       "4  PERMANECER EN EL CASCO ANTIGUO DE CIMADEVILLA,...       NaN   \n",
       "\n",
       "  VELOCIDAD_LIMITE  LATITUD  LONGITUD hora minute  \n",
       "0              NaN      NaN       NaN   00     05  \n",
       "1              NaN      NaN       NaN   00     40  \n",
       "2              NaN      NaN       NaN   01     28  \n",
       "3              NaN      NaN       NaN   01     47  \n",
       "4              NaN      NaN       NaN   02     23  "
      ]
     },
     "execution_count": 80,
     "metadata": {},
     "output_type": "execute_result"
    }
   ],
   "source": [
    "multas.head()"
   ]
  },
  {
   "cell_type": "code",
   "execution_count": null,
   "metadata": {},
   "outputs": [],
   "source": []
  },
  {
   "cell_type": "code",
   "execution_count": null,
   "metadata": {},
   "outputs": [],
   "source": []
  },
  {
   "cell_type": "code",
   "execution_count": null,
   "metadata": {},
   "outputs": [],
   "source": []
  },
  {
   "cell_type": "code",
   "execution_count": null,
   "metadata": {},
   "outputs": [],
   "source": []
  },
  {
   "cell_type": "code",
   "execution_count": null,
   "metadata": {},
   "outputs": [],
   "source": []
  },
  {
   "cell_type": "code",
   "execution_count": 5,
   "metadata": {
    "scrolled": true
   },
   "outputs": [
    {
     "data": {
      "text/html": [
       "<div>\n",
       "<style scoped>\n",
       "    .dataframe tbody tr th:only-of-type {\n",
       "        vertical-align: middle;\n",
       "    }\n",
       "\n",
       "    .dataframe tbody tr th {\n",
       "        vertical-align: top;\n",
       "    }\n",
       "\n",
       "    .dataframe thead th {\n",
       "        text-align: right;\n",
       "    }\n",
       "</style>\n",
       "<table border=\"1\" class=\"dataframe\">\n",
       "  <thead>\n",
       "    <tr style=\"text-align: right;\">\n",
       "      <th></th>\n",
       "      <th>TIPO</th>\n",
       "      <th>CALIFICACION</th>\n",
       "      <th>LUGAR</th>\n",
       "      <th>NUMERO</th>\n",
       "      <th>year</th>\n",
       "      <th>month</th>\n",
       "      <th>day</th>\n",
       "      <th>HORA</th>\n",
       "      <th>IMPORTE</th>\n",
       "      <th>DESCUENTO</th>\n",
       "      <th>PUNTOS</th>\n",
       "      <th>INFRACCION</th>\n",
       "      <th>VELOCIDAD</th>\n",
       "      <th>VELOCIDAD_LIMITE</th>\n",
       "      <th>LATITUD</th>\n",
       "      <th>LONGITUD</th>\n",
       "      <th>hour</th>\n",
       "      <th>minute</th>\n",
       "      <th>date</th>\n",
       "      <th>date_time</th>\n",
       "    </tr>\n",
       "  </thead>\n",
       "  <tbody>\n",
       "    <tr>\n",
       "      <th>0</th>\n",
       "      <td>Cimadevilla</td>\n",
       "      <td>Leve</td>\n",
       "      <td>BARRIO CIMADEVILLA GIJON</td>\n",
       "      <td>NaN</td>\n",
       "      <td>2018</td>\n",
       "      <td>1</td>\n",
       "      <td>1</td>\n",
       "      <td>00:05</td>\n",
       "      <td>90</td>\n",
       "      <td>0</td>\n",
       "      <td>0</td>\n",
       "      <td>PERMANECER EN EL CASCO ANTIGUO DE CIMADEVILLA,...</td>\n",
       "      <td>NaN</td>\n",
       "      <td>NaN</td>\n",
       "      <td>NaN</td>\n",
       "      <td>NaN</td>\n",
       "      <td>00</td>\n",
       "      <td>05</td>\n",
       "      <td>2018-01-01</td>\n",
       "      <td>2018-01-01 00:05:00</td>\n",
       "    </tr>\n",
       "    <tr>\n",
       "      <th>1</th>\n",
       "      <td>Cimadevilla</td>\n",
       "      <td>Leve</td>\n",
       "      <td>BARRIO CIMADEVILLA GIJON</td>\n",
       "      <td>NaN</td>\n",
       "      <td>2018</td>\n",
       "      <td>1</td>\n",
       "      <td>1</td>\n",
       "      <td>00:40</td>\n",
       "      <td>90</td>\n",
       "      <td>45</td>\n",
       "      <td>0</td>\n",
       "      <td>PERMANECER EN EL CASCO ANTIGUO DE CIMADEVILLA,...</td>\n",
       "      <td>NaN</td>\n",
       "      <td>NaN</td>\n",
       "      <td>NaN</td>\n",
       "      <td>NaN</td>\n",
       "      <td>00</td>\n",
       "      <td>40</td>\n",
       "      <td>2018-01-01</td>\n",
       "      <td>2018-01-01 00:40:00</td>\n",
       "    </tr>\n",
       "    <tr>\n",
       "      <th>2</th>\n",
       "      <td>Cimadevilla</td>\n",
       "      <td>Leve</td>\n",
       "      <td>BARRIO CIMADEVILLA GIJON</td>\n",
       "      <td>NaN</td>\n",
       "      <td>2018</td>\n",
       "      <td>1</td>\n",
       "      <td>1</td>\n",
       "      <td>01:28</td>\n",
       "      <td>90</td>\n",
       "      <td>45</td>\n",
       "      <td>0</td>\n",
       "      <td>PERMANECER EN EL CASCO ANTIGUO DE CIMADEVILLA,...</td>\n",
       "      <td>NaN</td>\n",
       "      <td>NaN</td>\n",
       "      <td>NaN</td>\n",
       "      <td>NaN</td>\n",
       "      <td>01</td>\n",
       "      <td>28</td>\n",
       "      <td>2018-01-01</td>\n",
       "      <td>2018-01-01 01:28:00</td>\n",
       "    </tr>\n",
       "    <tr>\n",
       "      <th>3</th>\n",
       "      <td>Cimadevilla</td>\n",
       "      <td>Leve</td>\n",
       "      <td>BARRIO CIMADEVILLA GIJON</td>\n",
       "      <td>NaN</td>\n",
       "      <td>2018</td>\n",
       "      <td>1</td>\n",
       "      <td>1</td>\n",
       "      <td>01:47</td>\n",
       "      <td>90</td>\n",
       "      <td>45</td>\n",
       "      <td>0</td>\n",
       "      <td>PERMANECER EN EL CASCO ANTIGUO DE CIMADEVILLA,...</td>\n",
       "      <td>NaN</td>\n",
       "      <td>NaN</td>\n",
       "      <td>NaN</td>\n",
       "      <td>NaN</td>\n",
       "      <td>01</td>\n",
       "      <td>47</td>\n",
       "      <td>2018-01-01</td>\n",
       "      <td>2018-01-01 01:47:00</td>\n",
       "    </tr>\n",
       "    <tr>\n",
       "      <th>4</th>\n",
       "      <td>Cimadevilla</td>\n",
       "      <td>Leve</td>\n",
       "      <td>BARRIO CIMADEVILLA GIJON</td>\n",
       "      <td>NaN</td>\n",
       "      <td>2018</td>\n",
       "      <td>1</td>\n",
       "      <td>1</td>\n",
       "      <td>02:23</td>\n",
       "      <td>90</td>\n",
       "      <td>0</td>\n",
       "      <td>0</td>\n",
       "      <td>PERMANECER EN EL CASCO ANTIGUO DE CIMADEVILLA,...</td>\n",
       "      <td>NaN</td>\n",
       "      <td>NaN</td>\n",
       "      <td>NaN</td>\n",
       "      <td>NaN</td>\n",
       "      <td>02</td>\n",
       "      <td>23</td>\n",
       "      <td>2018-01-01</td>\n",
       "      <td>2018-01-01 02:23:00</td>\n",
       "    </tr>\n",
       "  </tbody>\n",
       "</table>\n",
       "</div>"
      ],
      "text/plain": [
       "          TIPO CALIFICACION                     LUGAR  NUMERO  year  month  \\\n",
       "0  Cimadevilla         Leve  BARRIO CIMADEVILLA GIJON     NaN  2018      1   \n",
       "1  Cimadevilla         Leve  BARRIO CIMADEVILLA GIJON     NaN  2018      1   \n",
       "2  Cimadevilla         Leve  BARRIO CIMADEVILLA GIJON     NaN  2018      1   \n",
       "3  Cimadevilla         Leve  BARRIO CIMADEVILLA GIJON     NaN  2018      1   \n",
       "4  Cimadevilla         Leve  BARRIO CIMADEVILLA GIJON     NaN  2018      1   \n",
       "\n",
       "   day   HORA  IMPORTE  DESCUENTO  PUNTOS  \\\n",
       "0    1  00:05       90          0       0   \n",
       "1    1  00:40       90         45       0   \n",
       "2    1  01:28       90         45       0   \n",
       "3    1  01:47       90         45       0   \n",
       "4    1  02:23       90          0       0   \n",
       "\n",
       "                                          INFRACCION VELOCIDAD  \\\n",
       "0  PERMANECER EN EL CASCO ANTIGUO DE CIMADEVILLA,...       NaN   \n",
       "1  PERMANECER EN EL CASCO ANTIGUO DE CIMADEVILLA,...       NaN   \n",
       "2  PERMANECER EN EL CASCO ANTIGUO DE CIMADEVILLA,...       NaN   \n",
       "3  PERMANECER EN EL CASCO ANTIGUO DE CIMADEVILLA,...       NaN   \n",
       "4  PERMANECER EN EL CASCO ANTIGUO DE CIMADEVILLA,...       NaN   \n",
       "\n",
       "  VELOCIDAD_LIMITE  LATITUD  LONGITUD hour minute       date  \\\n",
       "0              NaN      NaN       NaN   00     05 2018-01-01   \n",
       "1              NaN      NaN       NaN   00     40 2018-01-01   \n",
       "2              NaN      NaN       NaN   01     28 2018-01-01   \n",
       "3              NaN      NaN       NaN   01     47 2018-01-01   \n",
       "4              NaN      NaN       NaN   02     23 2018-01-01   \n",
       "\n",
       "            date_time  \n",
       "0 2018-01-01 00:05:00  \n",
       "1 2018-01-01 00:40:00  \n",
       "2 2018-01-01 01:28:00  \n",
       "3 2018-01-01 01:47:00  \n",
       "4 2018-01-01 02:23:00  "
      ]
     },
     "execution_count": 5,
     "metadata": {},
     "output_type": "execute_result"
    }
   ],
   "source": [
    "\n",
    "multas = pd.read_csv(\"data/original_data/661.csv\")\n",
    "multas = multas.rename(columns={'AÑO':'year', 'MES':'month','DIA':'day'})\n",
    "multas[['hour', 'minute']] = multas.HORA.str.split(pat = \":\", n = 1, expand = True)\n",
    "multas['date'] = pd.to_datetime(multas[['year', 'month', 'day']])\n",
    "multas['date_time'] = pd.to_datetime(multas[['year', 'month', 'day', 'hour', 'minute']])\n",
    "multas.head()"
   ]
  },
  {
   "cell_type": "code",
   "execution_count": 88,
   "metadata": {},
   "outputs": [
    {
     "name": "stdout",
     "output_type": "stream",
     "text": [
      "<class 'pandas.core.frame.DataFrame'>\n",
      "RangeIndex: 66959 entries, 0 to 66958\n",
      "Data columns (total 20 columns):\n",
      "TIPO                66959 non-null object\n",
      "CALIFICACION        66959 non-null object\n",
      "LUGAR               66959 non-null object\n",
      "NUMERO              43292 non-null float64\n",
      "year                66959 non-null int64\n",
      "month               66959 non-null int64\n",
      "day                 66959 non-null int64\n",
      "HORA                66959 non-null object\n",
      "IMPORTE             66959 non-null int64\n",
      "DESCUENTO           66959 non-null int64\n",
      "PUNTOS              66959 non-null int64\n",
      "INFRACCION          66959 non-null object\n",
      "VELOCIDAD           36646 non-null object\n",
      "VELOCIDAD_LIMITE    36646 non-null object\n",
      "LATITUD             37759 non-null float64\n",
      "LONGITUD            37759 non-null float64\n",
      "hour                66959 non-null object\n",
      "minute              66959 non-null object\n",
      "date                66959 non-null datetime64[ns]\n",
      "date_time           66959 non-null datetime64[ns]\n",
      "dtypes: datetime64[ns](2), float64(3), int64(6), object(9)\n",
      "memory usage: 10.2+ MB\n"
     ]
    }
   ],
   "source": [
    "multas.info()"
   ]
  },
  {
   "cell_type": "code",
   "execution_count": 6,
   "metadata": {},
   "outputs": [
    {
     "data": {
      "image/png": "[encoded data removed]",
      "text/plain": [
       "<Figure size 432x288 with 1 Axes>"
      ]
     },
     "metadata": {},
     "output_type": "display_data"
    }
   ],
   "source": [
    "plt.hist(multas['IMPORTE'])\n",
    "plt.show()"
   ]
  },
  {
   "cell_type": "code",
   "execution_count": 99,
   "metadata": {},
   "outputs": [
    {
     "data": {
      "text/plain": [
       "3000"
      ]
     },
     "execution_count": 99,
     "metadata": {},
     "output_type": "execute_result"
    }
   ],
   "source": [
    "multas['IMPORTE'].max()"
   ]
  },
  {
   "cell_type": "code",
   "execution_count": 100,
   "metadata": {},
   "outputs": [
    {
     "data": {
      "text/plain": [
       "90"
      ]
     },
     "execution_count": 100,
     "metadata": {},
     "output_type": "execute_result"
    }
   ],
   "source": [
    "multas['IMPORTE'].min()"
   ]
  },
  {
   "cell_type": "code",
   "execution_count": 101,
   "metadata": {
    "scrolled": true
   },
   "outputs": [
    {
     "data": {
      "text/plain": [
       "100.0"
      ]
     },
     "execution_count": 101,
     "metadata": {},
     "output_type": "execute_result"
    }
   ],
   "source": [
    "multas['IMPORTE'].median()"
   ]
  },
  {
   "cell_type": "code",
   "execution_count": 30,
   "metadata": {
    "scrolled": true
   },
   "outputs": [
    {
     "data": {
      "text/html": [
       "<div>\n",
       "<style scoped>\n",
       "    .dataframe tbody tr th:only-of-type {\n",
       "        vertical-align: middle;\n",
       "    }\n",
       "\n",
       "    .dataframe tbody tr th {\n",
       "        vertical-align: top;\n",
       "    }\n",
       "\n",
       "    .dataframe thead th {\n",
       "        text-align: right;\n",
       "    }\n",
       "</style>\n",
       "<table border=\"1\" class=\"dataframe\">\n",
       "  <thead>\n",
       "    <tr style=\"text-align: right;\">\n",
       "      <th></th>\n",
       "    </tr>\n",
       "    <tr>\n",
       "      <th>IMPORTE</th>\n",
       "    </tr>\n",
       "  </thead>\n",
       "  <tbody>\n",
       "    <tr>\n",
       "      <th>90</th>\n",
       "    </tr>\n",
       "    <tr>\n",
       "      <th>100</th>\n",
       "    </tr>\n",
       "    <tr>\n",
       "      <th>200</th>\n",
       "    </tr>\n",
       "    <tr>\n",
       "      <th>300</th>\n",
       "    </tr>\n",
       "    <tr>\n",
       "      <th>400</th>\n",
       "    </tr>\n",
       "    <tr>\n",
       "      <th>500</th>\n",
       "    </tr>\n",
       "    <tr>\n",
       "      <th>600</th>\n",
       "    </tr>\n",
       "    <tr>\n",
       "      <th>1000</th>\n",
       "    </tr>\n",
       "    <tr>\n",
       "      <th>3000</th>\n",
       "    </tr>\n",
       "  </tbody>\n",
       "</table>\n",
       "</div>"
      ],
      "text/plain": [
       "Empty DataFrame\n",
       "Columns: []\n",
       "Index: [90, 100, 200, 300, 400, 500, 600, 1000, 3000]"
      ]
     },
     "execution_count": 30,
     "metadata": {},
     "output_type": "execute_result"
    }
   ],
   "source": [
    "importes = multas[['IMPORTE']]\n",
    "\n",
    "importes = importes.astype('object')\n",
    "\n",
    "importes.groupby('IMPORTE').count()"
   ]
  },
  {
   "cell_type": "code",
   "execution_count": null,
   "metadata": {},
   "outputs": [],
   "source": [
    "multas.IMPORTE.astype('object').count()"
   ]
  },
  {
   "cell_type": "code",
   "execution_count": 128,
   "metadata": {},
   "outputs": [
    {
     "data": {
      "text/html": [
       "<div>\n",
       "<style scoped>\n",
       "    .dataframe tbody tr th:only-of-type {\n",
       "        vertical-align: middle;\n",
       "    }\n",
       "\n",
       "    .dataframe tbody tr th {\n",
       "        vertical-align: top;\n",
       "    }\n",
       "\n",
       "    .dataframe thead th {\n",
       "        text-align: right;\n",
       "    }\n",
       "</style>\n",
       "<table border=\"1\" class=\"dataframe\">\n",
       "  <thead>\n",
       "    <tr style=\"text-align: right;\">\n",
       "      <th></th>\n",
       "      <th>NUMERO</th>\n",
       "      <th>year</th>\n",
       "      <th>month</th>\n",
       "      <th>day</th>\n",
       "      <th>IMPORTE</th>\n",
       "      <th>DESCUENTO</th>\n",
       "      <th>PUNTOS</th>\n",
       "      <th>LATITUD</th>\n",
       "      <th>LONGITUD</th>\n",
       "    </tr>\n",
       "  </thead>\n",
       "  <tbody>\n",
       "    <tr>\n",
       "      <th>count</th>\n",
       "      <td>43292.000000</td>\n",
       "      <td>66959.0</td>\n",
       "      <td>66959.000000</td>\n",
       "      <td>66959.000000</td>\n",
       "      <td>66959.000000</td>\n",
       "      <td>66959.000000</td>\n",
       "      <td>66959.000000</td>\n",
       "      <td>37759.000000</td>\n",
       "      <td>37759.000000</td>\n",
       "    </tr>\n",
       "    <tr>\n",
       "      <th>mean</th>\n",
       "      <td>184.407581</td>\n",
       "      <td>2018.0</td>\n",
       "      <td>6.345898</td>\n",
       "      <td>15.598486</td>\n",
       "      <td>123.261399</td>\n",
       "      <td>41.474783</td>\n",
       "      <td>0.261294</td>\n",
       "      <td>43.532691</td>\n",
       "      <td>-5.669160</td>\n",
       "    </tr>\n",
       "    <tr>\n",
       "      <th>std</th>\n",
       "      <td>858.931659</td>\n",
       "      <td>0.0</td>\n",
       "      <td>3.247558</td>\n",
       "      <td>8.720667</td>\n",
       "      <td>93.322836</td>\n",
       "      <td>38.741095</td>\n",
       "      <td>0.990685</td>\n",
       "      <td>0.007825</td>\n",
       "      <td>0.016170</td>\n",
       "    </tr>\n",
       "    <tr>\n",
       "      <th>min</th>\n",
       "      <td>1.000000</td>\n",
       "      <td>2018.0</td>\n",
       "      <td>1.000000</td>\n",
       "      <td>1.000000</td>\n",
       "      <td>90.000000</td>\n",
       "      <td>0.000000</td>\n",
       "      <td>0.000000</td>\n",
       "      <td>43.485325</td>\n",
       "      <td>-5.716753</td>\n",
       "    </tr>\n",
       "    <tr>\n",
       "      <th>25%</th>\n",
       "      <td>9.000000</td>\n",
       "      <td>2018.0</td>\n",
       "      <td>4.000000</td>\n",
       "      <td>8.000000</td>\n",
       "      <td>90.000000</td>\n",
       "      <td>0.000000</td>\n",
       "      <td>0.000000</td>\n",
       "      <td>43.524586</td>\n",
       "      <td>-5.682149</td>\n",
       "    </tr>\n",
       "    <tr>\n",
       "      <th>50%</th>\n",
       "      <td>15.000000</td>\n",
       "      <td>2018.0</td>\n",
       "      <td>6.000000</td>\n",
       "      <td>16.000000</td>\n",
       "      <td>100.000000</td>\n",
       "      <td>50.000000</td>\n",
       "      <td>0.000000</td>\n",
       "      <td>43.536301</td>\n",
       "      <td>-5.668449</td>\n",
       "    </tr>\n",
       "    <tr>\n",
       "      <th>75%</th>\n",
       "      <td>41.000000</td>\n",
       "      <td>2018.0</td>\n",
       "      <td>9.000000</td>\n",
       "      <td>23.000000</td>\n",
       "      <td>100.000000</td>\n",
       "      <td>50.000000</td>\n",
       "      <td>0.000000</td>\n",
       "      <td>43.539111</td>\n",
       "      <td>-5.655689</td>\n",
       "    </tr>\n",
       "    <tr>\n",
       "      <th>max</th>\n",
       "      <td>9450.000000</td>\n",
       "      <td>2018.0</td>\n",
       "      <td>12.000000</td>\n",
       "      <td>31.000000</td>\n",
       "      <td>3000.000000</td>\n",
       "      <td>500.000000</td>\n",
       "      <td>6.000000</td>\n",
       "      <td>43.553975</td>\n",
       "      <td>-5.594062</td>\n",
       "    </tr>\n",
       "  </tbody>\n",
       "</table>\n",
       "</div>"
      ],
      "text/plain": [
       "             NUMERO     year         month           day       IMPORTE  \\\n",
       "count  43292.000000  66959.0  66959.000000  66959.000000  66959.000000   \n",
       "mean     184.407581   2018.0      6.345898     15.598486    123.261399   \n",
       "std      858.931659      0.0      3.247558      8.720667     93.322836   \n",
       "min        1.000000   2018.0      1.000000      1.000000     90.000000   \n",
       "25%        9.000000   2018.0      4.000000      8.000000     90.000000   \n",
       "50%       15.000000   2018.0      6.000000     16.000000    100.000000   \n",
       "75%       41.000000   2018.0      9.000000     23.000000    100.000000   \n",
       "max     9450.000000   2018.0     12.000000     31.000000   3000.000000   \n",
       "\n",
       "          DESCUENTO        PUNTOS       LATITUD      LONGITUD  \n",
       "count  66959.000000  66959.000000  37759.000000  37759.000000  \n",
       "mean      41.474783      0.261294     43.532691     -5.669160  \n",
       "std       38.741095      0.990685      0.007825      0.016170  \n",
       "min        0.000000      0.000000     43.485325     -5.716753  \n",
       "25%        0.000000      0.000000     43.524586     -5.682149  \n",
       "50%       50.000000      0.000000     43.536301     -5.668449  \n",
       "75%       50.000000      0.000000     43.539111     -5.655689  \n",
       "max      500.000000      6.000000     43.553975     -5.594062  "
      ]
     },
     "execution_count": 128,
     "metadata": {},
     "output_type": "execute_result"
    }
   ],
   "source": [
    "multas.describe()"
   ]
  },
  {
   "cell_type": "code",
   "execution_count": 35,
   "metadata": {},
   "outputs": [
    {
     "data": {
      "text/html": [
       "<div>\n",
       "<style scoped>\n",
       "    .dataframe tbody tr th:only-of-type {\n",
       "        vertical-align: middle;\n",
       "    }\n",
       "\n",
       "    .dataframe tbody tr th {\n",
       "        vertical-align: top;\n",
       "    }\n",
       "\n",
       "    .dataframe thead th {\n",
       "        text-align: right;\n",
       "    }\n",
       "</style>\n",
       "<table border=\"1\" class=\"dataframe\">\n",
       "  <thead>\n",
       "    <tr style=\"text-align: right;\">\n",
       "      <th></th>\n",
       "      <th>TIPO</th>\n",
       "    </tr>\n",
       "    <tr>\n",
       "      <th>IMPORTE</th>\n",
       "      <th></th>\n",
       "    </tr>\n",
       "  </thead>\n",
       "  <tbody>\n",
       "    <tr>\n",
       "      <th>90</th>\n",
       "      <td>20584</td>\n",
       "    </tr>\n",
       "    <tr>\n",
       "      <th>100</th>\n",
       "      <td>35330</td>\n",
       "    </tr>\n",
       "    <tr>\n",
       "      <th>200</th>\n",
       "      <td>8877</td>\n",
       "    </tr>\n",
       "    <tr>\n",
       "      <th>300</th>\n",
       "      <td>1118</td>\n",
       "    </tr>\n",
       "    <tr>\n",
       "      <th>400</th>\n",
       "      <td>157</td>\n",
       "    </tr>\n",
       "    <tr>\n",
       "      <th>500</th>\n",
       "      <td>395</td>\n",
       "    </tr>\n",
       "    <tr>\n",
       "      <th>600</th>\n",
       "      <td>8</td>\n",
       "    </tr>\n",
       "    <tr>\n",
       "      <th>1000</th>\n",
       "      <td>489</td>\n",
       "    </tr>\n",
       "    <tr>\n",
       "      <th>3000</th>\n",
       "      <td>1</td>\n",
       "    </tr>\n",
       "  </tbody>\n",
       "</table>\n",
       "</div>"
      ],
      "text/plain": [
       "          TIPO\n",
       "IMPORTE       \n",
       "90       20584\n",
       "100      35330\n",
       "200       8877\n",
       "300       1118\n",
       "400        157\n",
       "500        395\n",
       "600          8\n",
       "1000       489\n",
       "3000         1"
      ]
     },
     "execution_count": 35,
     "metadata": {},
     "output_type": "execute_result"
    }
   ],
   "source": [
    "tabla_importes = multas.groupby('IMPORTE').count()[['TIPO']]\n",
    "tabla_importes"
   ]
  },
  {
   "cell_type": "code",
   "execution_count": 47,
   "metadata": {},
   "outputs": [
    {
     "name": "stdout",
     "output_type": "stream",
     "text": [
      "<class 'pandas.core.frame.DataFrame'>\n",
      "Int64Index: 9 entries, 90 to 3000\n",
      "Data columns (total 1 columns):\n",
      "TIPO    9 non-null int64\n",
      "dtypes: int64(1)\n",
      "memory usage: 144.0 bytes\n"
     ]
    }
   ],
   "source": [
    "tabla_importes = pd.DataFrame(tabla_importes)\n",
    "tabla_importes.info()"
   ]
  },
  {
   "cell_type": "code",
   "execution_count": 51,
   "metadata": {},
   "outputs": [
    {
     "ename": "NameError",
     "evalue": "name 'index' is not defined",
     "output_type": "error",
     "traceback": [
      "\u001b[1;31m---------------------------------------------------------------------------\u001b[0m",
      "\u001b[1;31mNameError\u001b[0m                                 Traceback (most recent call last)",
      "\u001b[1;32m<ipython-input-51-b5143dabec70>\u001b[0m in \u001b[0;36m<module>\u001b[1;34m()\u001b[0m\n\u001b[1;32m----> 1\u001b[1;33m \u001b[0mimportes\u001b[0m \u001b[1;33m=\u001b[0m \u001b[0mindex\u001b[0m\u001b[1;33m(\u001b[0m\u001b[0mtabla_importes\u001b[0m\u001b[1;33m)\u001b[0m\u001b[1;33m\u001b[0m\u001b[0m\n\u001b[0m\u001b[0;32m      2\u001b[0m \u001b[0mplt\u001b[0m\u001b[1;33m.\u001b[0m\u001b[0mbar\u001b[0m\u001b[1;33m(\u001b[0m\u001b[0mtabla_importes\u001b[0m\u001b[1;33m[\u001b[0m\u001b[1;34m'TIPO'\u001b[0m\u001b[1;33m]\u001b[0m\u001b[1;33m)\u001b[0m\u001b[1;33m\u001b[0m\u001b[0m\n\u001b[0;32m      3\u001b[0m \u001b[0mplt\u001b[0m\u001b[1;33m.\u001b[0m\u001b[0mxticks\u001b[0m\u001b[1;33m(\u001b[0m\u001b[0mtabla_importes\u001b[0m\u001b[1;33m[\u001b[0m\u001b[1;34m'IMPORTE'\u001b[0m\u001b[1;33m]\u001b[0m\u001b[1;33m)\u001b[0m\u001b[1;33m\u001b[0m\u001b[0m\n",
      "\u001b[1;31mNameError\u001b[0m: name 'index' is not defined"
     ]
    }
   ],
   "source": [
    "importes = index(tabla_importes)\n",
    "plt.bar(tabla_importes['TIPO'])\n",
    "plt.xticks(tabla_importes['IMPORTE'])"
   ]
  }
 ],
 "metadata": {
  "kernelspec": {
   "display_name": "Python 3",
   "language": "python",
   "name": "python3"
  },
  "language_info": {
   "codemirror_mode": {
    "name": "ipython",
    "version": 3
   },
   "file_extension": ".py",
   "mimetype": "text/x-python",
   "name": "python",
   "nbconvert_exporter": "python",
   "pygments_lexer": "ipython3",
   "version": "3.6.5"
  }
 },
 "nbformat": 4,
 "nbformat_minor": 2
}
